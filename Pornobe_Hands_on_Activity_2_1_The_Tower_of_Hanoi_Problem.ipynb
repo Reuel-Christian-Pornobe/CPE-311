{
  "cells": [
    {
      "cell_type": "markdown",
      "metadata": {
        "id": "view-in-github",
        "colab_type": "text"
      },
      "source": [
        "<a href=\"https://colab.research.google.com/github/Reuel-Christian-Pornobe/CPE-311/blob/main/Pornobe_Hands_on_Activity_2_1_The_Tower_of_Hanoi_Problem.ipynb\" target=\"_parent\"><img src=\"https://colab.research.google.com/assets/colab-badge.svg\" alt=\"Open In Colab\"/></a>"
      ]
    },
    {
      "cell_type": "markdown",
      "source": [
        "Pornobe, Reuel Christian, M."
      ],
      "metadata": {
        "id": "ct9AmQpa6AHA"
      }
    },
    {
      "cell_type": "code",
      "execution_count": 14,
      "metadata": {
        "colab": {
          "base_uri": "https://localhost:8080/"
        },
        "id": "n6jZgZOBRpjT",
        "outputId": "f20221cf-6d74-4215-97ed-5c095355c24c"
      },
      "outputs": [
        {
          "output_type": "stream",
          "name": "stdout",
          "text": [
            "Rod 1: [3, 2]\n",
            "Rod 2: []\n",
            "Rod 3: [1]\n",
            "================================================================\n",
            "Rod 1: [3]\n",
            "Rod 2: [2]\n",
            "Rod 3: [1]\n",
            "================================================================\n",
            "Rod 1: [3]\n",
            "Rod 2: [2, 1]\n",
            "Rod 3: []\n",
            "================================================================\n",
            "Rod 1: []\n",
            "Rod 2: [2, 1]\n",
            "Rod 3: [3]\n",
            "================================================================\n",
            "Rod 1: [1]\n",
            "Rod 2: [2]\n",
            "Rod 3: [3]\n",
            "================================================================\n",
            "Rod 1: [1]\n",
            "Rod 2: []\n",
            "Rod 3: [3, 2]\n",
            "================================================================\n",
            "Rod 1: []\n",
            "Rod 2: []\n",
            "Rod 3: [3, 2, 1]\n",
            "================================================================\n"
          ]
        }
      ],
      "source": [
        "def hanoiAlgo(i, startRod, endRod, rods): # recursive algo\n",
        "\n",
        "    if i == 1:                            # base case of the recursion\n",
        "        moveDisk(startRod, endRod, rods)\n",
        "    else:\n",
        "        nextRod = 6 - (startRod + endRod) # for calculating the rod that is not being used in the current iteration\n",
        "        hanoiAlgo(i-1, startRod, nextRod, rods)\n",
        "        moveDisk(startRod, endRod, rods)\n",
        "        hanoiAlgo(i-1, nextRod, endRod, rods)\n",
        "\n",
        "# used for moving the disk to the rods\n",
        "def moveDisk(startRod, endRod, rods):\n",
        "\n",
        "    disk = rods[startRod].pop()  # Remove the top disk from the start rod\n",
        "    rods[endRod].append(disk)     # Add the disk to the end rod\n",
        "    show(rods)\n",
        "\n",
        "#print each rod\n",
        "def show(rods):\n",
        "    for i in range(1, 4):\n",
        "        print(f\"Rod {i}: {rods[i]}\")\n",
        "    print(\"================================================================\")\n",
        "\n",
        "num = 3  # number of disks\n",
        "\n",
        "#used a dictionary so that i can use the startRod, endRod, nextRod to call the lists or stacks(?)\n",
        "rods = {\n",
        "    1: list(range(num, 0, -1)),  #used a list function to generate the rods in descending order (the last element of the list is considered the top)\n",
        "    2: [],\n",
        "    3: []\n",
        "}\n",
        "\n",
        "hanoiAlgo(num, 1, 3, rods)"
      ]
    },
    {
      "cell_type": "markdown",
      "source": [
        "### **Supplementary Activity**"
      ],
      "metadata": {
        "id": "q9KHfHbf5_EK"
      }
    },
    {
      "cell_type": "markdown",
      "source": [
        "**1. Explain the programming paradigms/techniques (like recursion or dynamic programming) that you used to solve the given problem.**"
      ],
      "metadata": {
        "id": "PRDjwICX7a4w"
      }
    },
    {
      "cell_type": "markdown",
      "source": [
        "For this activity, I used a Recursive function to solve the Tower of Hanoi. A Recursive function is a function that calls itself to solve smaller problems."
      ],
      "metadata": {
        "id": "R8Cg8qIK6eEI"
      }
    },
    {
      "cell_type": "markdown",
      "source": [
        "**2. Provide screenshots of the techniques and provide a quick analysis.**"
      ],
      "metadata": {
        "id": "6jyuaikg7eWQ"
      }
    },
    {
      "cell_type": "code",
      "source": [
        "def hanoiAlgo(i, startRod, endRod, rods): # recursive algo\n",
        "\n",
        "    if i == 1:                            # base case of the recursion\n",
        "        moveDisk(startRod, endRod, rods)\n",
        "    else:\n",
        "        nextRod = 6 - (startRod + endRod) # for calculating the rod that is not being used in the current iteration\n",
        "        hanoiAlgo(i-1, startRod, nextRod, rods)\n",
        "        moveDisk(startRod, endRod, rods)\n",
        "        hanoiAlgo(i-1, nextRod, endRod, rods)"
      ],
      "metadata": {
        "id": "EOo8AAG_7hMA"
      },
      "execution_count": null,
      "outputs": []
    },
    {
      "cell_type": "markdown",
      "source": [
        "The function hanoiAlgo follows a divide-and-conquer approach, breaking down the problem into smaller subproblems until it reaches the base case. If there is only one disk, it is moved directly from the starting rod to the target rod. Otherwise, the function first moves i-1 disks to another rod, then moves the largest disk to the destination rod, and finally transfers the smaller stack from the auxiliary rod to the destination. This process is repeated recursively, ensuring that all disks are moved according to the game's rules."
      ],
      "metadata": {
        "id": "XX0OEJOo7kLg"
      }
    }
  ],
  "metadata": {
    "colab": {
      "provenance": [],
      "authorship_tag": "ABX9TyN8CPSih0ER92CNZmqR4l1o",
      "include_colab_link": true
    },
    "kernelspec": {
      "display_name": "Python 3",
      "name": "python3"
    },
    "language_info": {
      "name": "python"
    }
  },
  "nbformat": 4,
  "nbformat_minor": 0
}