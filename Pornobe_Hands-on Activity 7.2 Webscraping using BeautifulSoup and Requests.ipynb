{
 "cells": [
  {
   "cell_type": "markdown",
   "id": "ee71f2aa-ecdb-4c69-b4bc-61e0dba437b6",
   "metadata": {},
   "source": [
    "# Data Gathering"
   ]
  },
  {
   "cell_type": "markdown",
   "id": "195d2bc3-ce52-4059-a924-15fc7d5f374a",
   "metadata": {},
   "source": [
    "### Example of gathering image data using webcam"
   ]
  },
  {
   "cell_type": "code",
   "execution_count": null,
   "id": "53f80306-de31-4985-a0d8-cc1f59027d00",
   "metadata": {},
   "outputs": [],
   "source": [
    "import cv2\n",
    "\n",
    "key = cv2. waitKey(1)\n",
    "webcam = cv2.VideoCapture(0)\n",
    "\n",
    "while True:\n",
    "    try:\n",
    "        check, frame = webcam.read()\n",
    "        print(check) #prints true as long as the webcam is running\n",
    "        print(frame) #prints matrix values of each framecd\n",
    "        cv2.imshow(\"Capturing\", frame)\n",
    "        key = cv2.waitKey(1)\n",
    "        \n",
    "        if key == ord('s'):\n",
    "            cv2.imwrite(filename='saved_img.jpg', img=frame)\n",
    "            webcam.release()\n",
    "            img_new = cv2.imread('saved_img.jpg', cv2.IMREAD_GRAYSCALE)\n",
    "            img_new = cv2.imshow(\"Captured Image\", img_new)\n",
    "            cv2.waitKey(1650)\n",
    "            cv2.destroyAllWindows()\n",
    "            print(\"Processing image...\")\n",
    "            img_ = cv2.imread('saved_img.jpg', cv2.IMREAD_ANYCOLOR)\n",
    "            print(\"Converting RGB image to grayscale...\")\n",
    "            gray = cv2.cvtColor(img_, cv2.COLOR_BGR2GRAY)\n",
    "            print(\"Converted RGB image to grayscale...\")\n",
    "            print(\"Resizing image to 28x28 scale...\")\n",
    "            img_ = cv2.resize(gray,(28,28))\n",
    "            print(\"Resized...\")\n",
    "            img_resized = cv2.imwrite(filename='saved_img-final.jpg', img=img_)\n",
    "            print(\"Image saved!\")\n",
    "            break\n",
    "            \n",
    "        elif key == ord('q'):\n",
    "            print(\"Turning off camera.\")\n",
    "            webcam.release()\n",
    "            print(\"Camera off.\")\n",
    "            print(\"Program ended.\")\n",
    "            cv2.destroyAllWindows()\n",
    "            break\n",
    "    except(KeyboardInterrupt):\n",
    "        print(\"Turning off camera.\")\n",
    "        webcam.release()p\n",
    "        print(\"Camera off.\")\n",
    "        print(\"Program ended.\")\n",
    "        cv2.destroyAllWindows()\n",
    "        break"
   ]
  },
  {
   "cell_type": "markdown",
   "id": "c356feea-a3be-47e9-871c-cef44c9a0ffa",
   "metadata": {},
   "source": [
    "I did not run this cell when printing the pdf because it takes 1091 pages of pdf to print all the notebook"
   ]
  },
  {
   "cell_type": "markdown",
   "id": "c06159eb-01c9-431c-a0dc-d4cd73a22273",
   "metadata": {},
   "source": [
    "### Example of gathering voice data using microphone"
   ]
  },
  {
   "cell_type": "code",
   "execution_count": 6,
   "id": "57448f25-43ef-409e-a6f8-9e0e0250930e",
   "metadata": {},
   "outputs": [
    {
     "name": "stdout",
     "output_type": "stream",
     "text": [
      "Requirement already satisfied: sounddevice in c:\\users\\reuel\\anaconda3\\envs\\cpe311-reuel\\lib\\site-packages (0.5.1)\n",
      "Requirement already satisfied: CFFI>=1.0 in c:\\users\\reuel\\anaconda3\\envs\\cpe311-reuel\\lib\\site-packages (from sounddevice) (1.17.1)\n",
      "Requirement already satisfied: pycparser in c:\\users\\reuel\\anaconda3\\envs\\cpe311-reuel\\lib\\site-packages (from CFFI>=1.0->sounddevice) (2.22)\n"
     ]
    }
   ],
   "source": [
    "!pip3 install sounddevice"
   ]
  },
  {
   "cell_type": "code",
   "execution_count": 7,
   "id": "dbe50c81-dd64-45a7-aaaa-f6f89c8bc56f",
   "metadata": {},
   "outputs": [
    {
     "name": "stdout",
     "output_type": "stream",
     "text": [
      "Requirement already satisfied: wavio in c:\\users\\reuel\\anaconda3\\envs\\cpe311-reuel\\lib\\site-packages (0.0.9)\n",
      "Requirement already satisfied: numpy>=1.19.0 in c:\\users\\reuel\\anaconda3\\envs\\cpe311-reuel\\lib\\site-packages (from wavio) (2.2.4)\n"
     ]
    }
   ],
   "source": [
    "!pip3 install wavio"
   ]
  },
  {
   "cell_type": "code",
   "execution_count": 8,
   "id": "ec7d7e9d-ee32-4e87-9e20-9839d8f6ce6f",
   "metadata": {
    "collapsed": true,
    "jupyter": {
     "outputs_hidden": true
    }
   },
   "outputs": [
    {
     "name": "stdout",
     "output_type": "stream",
     "text": [
      "Collecting scipy\n",
      "  Downloading scipy-1.15.2-cp312-cp312-win_amd64.whl.metadata (60 kB)\n",
      "Requirement already satisfied: numpy<2.5,>=1.23.5 in c:\\users\\reuel\\anaconda3\\envs\\cpe311-reuel\\lib\\site-packages (from scipy) (2.2.4)\n",
      "Downloading scipy-1.15.2-cp312-cp312-win_amd64.whl (40.9 MB)\n",
      "   ---------------------------------------- 0.0/40.9 MB ? eta -:--:--\n",
      "   ---------------------------------------- 0.0/40.9 MB ? eta -:--:--\n",
      "   ---------------------------------------- 0.3/40.9 MB ? eta -:--:--\n",
      "    --------------------------------------- 0.5/40.9 MB 1.4 MB/s eta 0:00:29\n",
      "    --------------------------------------- 0.8/40.9 MB 1.1 MB/s eta 0:00:36\n",
      "   - -------------------------------------- 1.0/40.9 MB 1.0 MB/s eta 0:00:39\n",
      "   - -------------------------------------- 1.0/40.9 MB 1.0 MB/s eta 0:00:39\n",
      "   - -------------------------------------- 1.3/40.9 MB 1.0 MB/s eta 0:00:40\n",
      "   - -------------------------------------- 1.6/40.9 MB 975.2 kB/s eta 0:00:41\n",
      "   - -------------------------------------- 1.6/40.9 MB 975.2 kB/s eta 0:00:41\n",
      "   - -------------------------------------- 1.6/40.9 MB 975.2 kB/s eta 0:00:41\n",
      "   - -------------------------------------- 1.6/40.9 MB 975.2 kB/s eta 0:00:41\n",
      "   - -------------------------------------- 1.8/40.9 MB 768.4 kB/s eta 0:00:51\n",
      "   -- ------------------------------------- 2.1/40.9 MB 748.1 kB/s eta 0:00:52\n",
      "   -- ------------------------------------- 2.1/40.9 MB 748.1 kB/s eta 0:00:52\n",
      "   -- ------------------------------------- 2.1/40.9 MB 748.1 kB/s eta 0:00:52\n",
      "   -- ------------------------------------- 2.1/40.9 MB 748.1 kB/s eta 0:00:52\n",
      "   -- ------------------------------------- 2.1/40.9 MB 748.1 kB/s eta 0:00:52\n",
      "   -- ------------------------------------- 2.4/40.9 MB 633.2 kB/s eta 0:01:01\n",
      "   -- ------------------------------------- 2.4/40.9 MB 633.2 kB/s eta 0:01:01\n",
      "   -- ------------------------------------- 2.4/40.9 MB 633.2 kB/s eta 0:01:01\n",
      "   -- ------------------------------------- 2.6/40.9 MB 594.4 kB/s eta 0:01:05\n",
      "   -- ------------------------------------- 2.6/40.9 MB 594.4 kB/s eta 0:01:05\n",
      "   -- ------------------------------------- 2.6/40.9 MB 594.4 kB/s eta 0:01:05\n",
      "   -- ------------------------------------- 2.6/40.9 MB 594.4 kB/s eta 0:01:05\n",
      "   -- ------------------------------------- 2.6/40.9 MB 594.4 kB/s eta 0:01:05\n",
      "   -- ------------------------------------- 2.6/40.9 MB 594.4 kB/s eta 0:01:05\n",
      "   -- ------------------------------------- 2.6/40.9 MB 594.4 kB/s eta 0:01:05\n",
      "   -- ------------------------------------- 2.6/40.9 MB 594.4 kB/s eta 0:01:05\n",
      "   -- ------------------------------------- 2.9/40.9 MB 455.9 kB/s eta 0:01:24\n",
      "   -- ------------------------------------- 2.9/40.9 MB 455.9 kB/s eta 0:01:24\n",
      "   --- ------------------------------------ 3.1/40.9 MB 469.6 kB/s eta 0:01:21\n",
      "   --- ------------------------------------ 3.1/40.9 MB 469.6 kB/s eta 0:01:21\n",
      "   --- ------------------------------------ 3.4/40.9 MB 480.5 kB/s eta 0:01:19\n",
      "   --- ------------------------------------ 3.4/40.9 MB 480.5 kB/s eta 0:01:19\n",
      "   --- ------------------------------------ 3.4/40.9 MB 480.5 kB/s eta 0:01:19\n",
      "   --- ------------------------------------ 3.4/40.9 MB 480.5 kB/s eta 0:01:19\n",
      "   --- ------------------------------------ 3.4/40.9 MB 480.5 kB/s eta 0:01:19\n",
      "   --- ------------------------------------ 3.7/40.9 MB 450.7 kB/s eta 0:01:23\n",
      "   --- ------------------------------------ 3.7/40.9 MB 450.7 kB/s eta 0:01:23\n",
      "   --- ------------------------------------ 3.9/40.9 MB 465.1 kB/s eta 0:01:20\n",
      "   ---- ----------------------------------- 4.2/40.9 MB 476.6 kB/s eta 0:01:18\n",
      "   ---- ----------------------------------- 4.2/40.9 MB 476.6 kB/s eta 0:01:18\n",
      "   ---- ----------------------------------- 4.5/40.9 MB 491.7 kB/s eta 0:01:15\n",
      "   ---- ----------------------------------- 4.5/40.9 MB 491.7 kB/s eta 0:01:15\n",
      "   ---- ----------------------------------- 4.5/40.9 MB 491.7 kB/s eta 0:01:15\n",
      "   ---- ----------------------------------- 5.0/40.9 MB 512.7 kB/s eta 0:01:11\n",
      "   ---- ----------------------------------- 5.0/40.9 MB 512.7 kB/s eta 0:01:11\n",
      "   ----- ---------------------------------- 5.2/40.9 MB 521.7 kB/s eta 0:01:09\n",
      "   ----- ---------------------------------- 5.5/40.9 MB 532.6 kB/s eta 0:01:07\n",
      "   ----- ---------------------------------- 5.5/40.9 MB 532.6 kB/s eta 0:01:07\n",
      "   ----- ---------------------------------- 5.8/40.9 MB 543.7 kB/s eta 0:01:05\n",
      "   ----- ---------------------------------- 5.8/40.9 MB 543.7 kB/s eta 0:01:05\n",
      "   ----- ---------------------------------- 6.0/40.9 MB 546.8 kB/s eta 0:01:04\n",
      "   ------ --------------------------------- 6.3/40.9 MB 560.9 kB/s eta 0:01:02\n",
      "   ------ --------------------------------- 6.3/40.9 MB 560.9 kB/s eta 0:01:02\n",
      "   ------ --------------------------------- 6.3/40.9 MB 560.9 kB/s eta 0:01:02\n",
      "   ------ --------------------------------- 6.8/40.9 MB 567.6 kB/s eta 0:01:01\n",
      "   ------ --------------------------------- 6.8/40.9 MB 567.6 kB/s eta 0:01:01\n",
      "   ------ --------------------------------- 7.1/40.9 MB 577.8 kB/s eta 0:00:59\n",
      "   ------ --------------------------------- 7.1/40.9 MB 577.8 kB/s eta 0:00:59\n",
      "   ------- -------------------------------- 7.3/40.9 MB 577.8 kB/s eta 0:00:59\n",
      "   ------- -------------------------------- 7.3/40.9 MB 577.8 kB/s eta 0:00:59\n",
      "   ------- -------------------------------- 7.6/40.9 MB 580.0 kB/s eta 0:00:58\n",
      "   ------- -------------------------------- 7.9/40.9 MB 591.2 kB/s eta 0:00:56\n",
      "   ------- -------------------------------- 8.1/40.9 MB 594.3 kB/s eta 0:00:56\n",
      "   -------- ------------------------------- 8.4/40.9 MB 608.3 kB/s eta 0:00:54\n",
      "   -------- ------------------------------- 9.2/40.9 MB 654.2 kB/s eta 0:00:49\n",
      "   --------- ------------------------------ 10.0/40.9 MB 701.4 kB/s eta 0:00:45\n",
      "   ---------- ----------------------------- 10.5/40.9 MB 727.0 kB/s eta 0:00:42\n",
      "   ---------- ----------------------------- 11.0/40.9 MB 755.9 kB/s eta 0:00:40\n",
      "   ----------- ---------------------------- 11.5/40.9 MB 785.0 kB/s eta 0:00:38\n",
      "   ----------- ---------------------------- 11.8/40.9 MB 791.2 kB/s eta 0:00:37\n",
      "   ------------ --------------------------- 12.6/40.9 MB 828.3 kB/s eta 0:00:35\n",
      "   ------------ --------------------------- 13.1/40.9 MB 854.6 kB/s eta 0:00:33\n",
      "   ------------- -------------------------- 13.9/40.9 MB 893.9 kB/s eta 0:00:31\n",
      "   ------------- -------------------------- 14.2/40.9 MB 904.6 kB/s eta 0:00:30\n",
      "   ------------- -------------------------- 14.2/40.9 MB 904.6 kB/s eta 0:00:30\n",
      "   ------------- -------------------------- 14.2/40.9 MB 904.6 kB/s eta 0:00:30\n",
      "   -------------- ------------------------- 14.4/40.9 MB 881.3 kB/s eta 0:00:31\n",
      "   -------------- ------------------------- 14.7/40.9 MB 883.0 kB/s eta 0:00:30\n",
      "   -------------- ------------------------- 14.9/40.9 MB 895.6 kB/s eta 0:00:30\n",
      "   --------------- ------------------------ 15.5/40.9 MB 909.4 kB/s eta 0:00:29\n",
      "   --------------- ------------------------ 15.7/40.9 MB 916.5 kB/s eta 0:00:28\n",
      "   --------------- ------------------------ 16.0/40.9 MB 926.9 kB/s eta 0:00:27\n",
      "   ---------------- ----------------------- 16.5/40.9 MB 941.3 kB/s eta 0:00:26\n",
      "   ---------------- ----------------------- 17.0/40.9 MB 959.6 kB/s eta 0:00:25\n",
      "   ----------------- ---------------------- 17.6/40.9 MB 977.3 kB/s eta 0:00:24\n",
      "   ----------------- ---------------------- 18.4/40.9 MB 1.0 MB/s eta 0:00:23\n",
      "   ------------------ --------------------- 18.6/40.9 MB 1.0 MB/s eta 0:00:22\n",
      "   ------------------ --------------------- 19.4/40.9 MB 1.0 MB/s eta 0:00:21\n",
      "   ------------------- -------------------- 19.7/40.9 MB 1.0 MB/s eta 0:00:21\n",
      "   ------------------- -------------------- 20.2/40.9 MB 1.1 MB/s eta 0:00:20\n",
      "   -------------------- ------------------- 20.7/40.9 MB 1.1 MB/s eta 0:00:19\n",
      "   -------------------- ------------------- 21.2/40.9 MB 1.1 MB/s eta 0:00:18\n",
      "   --------------------- ------------------ 21.8/40.9 MB 1.1 MB/s eta 0:00:18\n",
      "   --------------------- ------------------ 22.0/40.9 MB 1.1 MB/s eta 0:00:17\n",
      "   --------------------- ------------------ 22.3/40.9 MB 1.1 MB/s eta 0:00:17\n",
      "   ---------------------- ----------------- 22.5/40.9 MB 1.1 MB/s eta 0:00:17\n",
      "   ---------------------- ----------------- 22.8/40.9 MB 1.1 MB/s eta 0:00:17\n",
      "   ---------------------- ----------------- 23.1/40.9 MB 1.1 MB/s eta 0:00:16\n",
      "   ---------------------- ----------------- 23.3/40.9 MB 1.1 MB/s eta 0:00:16\n",
      "   ----------------------- ---------------- 23.9/40.9 MB 1.1 MB/s eta 0:00:16\n",
      "   ----------------------- ---------------- 24.4/40.9 MB 1.1 MB/s eta 0:00:15\n",
      "   ----------------------- ---------------- 24.4/40.9 MB 1.1 MB/s eta 0:00:15\n",
      "   ----------------------- ---------------- 24.4/40.9 MB 1.1 MB/s eta 0:00:15\n",
      "   ------------------------ --------------- 24.9/40.9 MB 1.1 MB/s eta 0:00:15\n",
      "   ------------------------ --------------- 25.2/40.9 MB 1.1 MB/s eta 0:00:14\n",
      "   ------------------------ --------------- 25.2/40.9 MB 1.1 MB/s eta 0:00:14\n",
      "   ------------------------ --------------- 25.4/40.9 MB 1.1 MB/s eta 0:00:14\n",
      "   ------------------------ --------------- 25.4/40.9 MB 1.1 MB/s eta 0:00:14\n",
      "   ------------------------ --------------- 25.4/40.9 MB 1.1 MB/s eta 0:00:14\n",
      "   ------------------------ --------------- 25.4/40.9 MB 1.1 MB/s eta 0:00:14\n",
      "   ------------------------- -------------- 25.7/40.9 MB 1.1 MB/s eta 0:00:14\n",
      "   ------------------------- -------------- 25.7/40.9 MB 1.1 MB/s eta 0:00:14\n",
      "   ------------------------- -------------- 25.7/40.9 MB 1.1 MB/s eta 0:00:14\n",
      "   ------------------------- -------------- 25.7/40.9 MB 1.1 MB/s eta 0:00:14\n",
      "   ------------------------- -------------- 26.0/40.9 MB 1.1 MB/s eta 0:00:14\n",
      "   ------------------------- -------------- 26.2/40.9 MB 1.1 MB/s eta 0:00:14\n",
      "   ------------------------- -------------- 26.5/40.9 MB 1.1 MB/s eta 0:00:14\n",
      "   -------------------------- ------------- 26.7/40.9 MB 1.1 MB/s eta 0:00:14\n",
      "   -------------------------- ------------- 27.0/40.9 MB 1.1 MB/s eta 0:00:13\n",
      "   -------------------------- ------------- 27.3/40.9 MB 1.1 MB/s eta 0:00:13\n",
      "   -------------------------- ------------- 27.5/40.9 MB 1.1 MB/s eta 0:00:13\n",
      "   --------------------------- ------------ 28.3/40.9 MB 1.1 MB/s eta 0:00:12\n",
      "   ---------------------------- ----------- 29.1/40.9 MB 1.1 MB/s eta 0:00:11\n",
      "   ---------------------------- ----------- 29.4/40.9 MB 1.1 MB/s eta 0:00:11\n",
      "   ----------------------------- ---------- 29.9/40.9 MB 1.1 MB/s eta 0:00:10\n",
      "   ----------------------------- ---------- 30.4/40.9 MB 1.2 MB/s eta 0:00:10\n",
      "   ------------------------------ --------- 30.9/40.9 MB 1.2 MB/s eta 0:00:09\n",
      "   ------------------------------ --------- 31.5/40.9 MB 1.2 MB/s eta 0:00:09\n",
      "   ------------------------------ --------- 31.7/40.9 MB 1.2 MB/s eta 0:00:08\n",
      "   ------------------------------- -------- 32.2/40.9 MB 1.2 MB/s eta 0:00:08\n",
      "   -------------------------------- ------- 32.8/40.9 MB 1.2 MB/s eta 0:00:07\n",
      "   -------------------------------- ------- 32.8/40.9 MB 1.2 MB/s eta 0:00:07\n",
      "   -------------------------------- ------- 33.3/40.9 MB 1.2 MB/s eta 0:00:07\n",
      "   -------------------------------- ------- 33.6/40.9 MB 1.2 MB/s eta 0:00:07\n",
      "   --------------------------------- ------ 33.8/40.9 MB 1.2 MB/s eta 0:00:06\n",
      "   --------------------------------- ------ 34.3/40.9 MB 1.2 MB/s eta 0:00:06\n",
      "   ---------------------------------- ----- 34.9/40.9 MB 1.2 MB/s eta 0:00:05\n",
      "   ---------------------------------- ----- 35.1/40.9 MB 1.2 MB/s eta 0:00:05\n",
      "   ---------------------------------- ----- 35.4/40.9 MB 1.2 MB/s eta 0:00:05\n",
      "   ---------------------------------- ----- 35.7/40.9 MB 1.2 MB/s eta 0:00:05\n",
      "   ----------------------------------- ---- 36.2/40.9 MB 1.2 MB/s eta 0:00:04\n",
      "   ----------------------------------- ---- 36.7/40.9 MB 1.2 MB/s eta 0:00:04\n",
      "   ------------------------------------ --- 37.2/40.9 MB 1.3 MB/s eta 0:00:03\n",
      "   ------------------------------------ --- 37.5/40.9 MB 1.3 MB/s eta 0:00:03\n",
      "   ------------------------------------ --- 37.7/40.9 MB 1.3 MB/s eta 0:00:03\n",
      "   -------------------------------------- - 39.1/40.9 MB 1.3 MB/s eta 0:00:02\n",
      "   ---------------------------------------  40.9/40.9 MB 1.3 MB/s eta 0:00:01\n",
      "   ---------------------------------------  40.9/40.9 MB 1.3 MB/s eta 0:00:01\n",
      "   ---------------------------------------  40.9/40.9 MB 1.3 MB/s eta 0:00:01\n",
      "   ---------------------------------------- 40.9/40.9 MB 1.3 MB/s eta 0:00:00\n",
      "Installing collected packages: scipy\n",
      "Successfully installed scipy-1.15.2\n"
     ]
    }
   ],
   "source": [
    "!pip3 install scipy"
   ]
  },
  {
   "cell_type": "code",
   "execution_count": 51,
   "id": "29c2a5d6-96fc-482e-be67-67a04309af74",
   "metadata": {},
   "outputs": [
    {
     "name": "stdout",
     "output_type": "stream",
     "text": [
      "Collecting pyaudio\n",
      "  Downloading PyAudio-0.2.14-cp312-cp312-win_amd64.whl.metadata (2.7 kB)\n",
      "Downloading PyAudio-0.2.14-cp312-cp312-win_amd64.whl (164 kB)\n",
      "Installing collected packages: pyaudio\n",
      "Successfully installed pyaudio-0.2.14\n"
     ]
    }
   ],
   "source": [
    "#!apt-get intsall libportaudio32\n",
    "!pip install pyaudio"
   ]
  },
  {
   "cell_type": "code",
   "execution_count": 77,
   "id": "b811eb47-1a01-420a-9a89-84bc8c8fad7f",
   "metadata": {},
   "outputs": [],
   "source": [
    "# import required libraries\n",
    "import sounddevice as sd\n",
    "from scipy.io.wavfile import write\n",
    "import wavio as wv\n",
    "\n",
    "# Sampling frequency\n",
    "freq = 44100\n",
    "\n",
    "# Recording duration\n",
    "duration = 5\n",
    "\n",
    "# Start recorder with the given values\n",
    "# of duration and sample frequency\n",
    "recording = sd.rec(int(duration * freq),\n",
    "samplerate=freq, channels=2)\n",
    "\n",
    "# Record audio for the given number of seconds\n",
    "sd.wait()\n",
    "\n",
    "# This will convert the NumPy array to an audio\n",
    "# file with the given sampling frequency\n",
    "write(\"recording0.wav\", freq, recording)\n",
    "\n",
    "# Convert the NumPy array to audio file\n",
    "wv.write(\"recording1.wav\", recording, freq, sampwidth=2)"
   ]
  },
  {
   "cell_type": "markdown",
   "id": "c879eae9-f829-4d3c-9a68-1b0ce659043a",
   "metadata": {},
   "source": [
    "# Web Scraping"
   ]
  },
  {
   "cell_type": "markdown",
   "id": "04e8b880-858e-44aa-8d91-66dd9df779f9",
   "metadata": {},
   "source": [
    "### Image Scraping using BeautifulSoup and Request"
   ]
  },
  {
   "cell_type": "code",
   "execution_count": 29,
   "id": "8104fcc5-64ce-42b5-b661-ae99e66b5463",
   "metadata": {},
   "outputs": [
    {
     "name": "stdout",
     "output_type": "stream",
     "text": [
      "/images/branding/googlelogo/1x/googlelogo_white_background_color_272x92dp.png\n"
     ]
    }
   ],
   "source": [
    "import requests\n",
    "from bs4 import BeautifulSoup\n",
    "def getdata(url):\n",
    "    r = requests.get(url)\n",
    "    return r.text\n",
    "    \n",
    "htmldata = getdata(\"https://www.google.com/\")\n",
    "soup = BeautifulSoup(htmldata, 'html.parser')\n",
    "\n",
    "for item in soup.find_all('img'):\n",
    "    print(item['src'])"
   ]
  },
  {
   "cell_type": "markdown",
   "id": "81442ed1-d54c-490c-a6cc-535b23fdaeb7",
   "metadata": {},
   "source": [
    "### Image Scraping using Selenium"
   ]
  },
  {
   "cell_type": "code",
   "execution_count": 31,
   "id": "7e9a19aa-1307-4a02-8a99-3d3d7084100d",
   "metadata": {
    "collapsed": true,
    "jupyter": {
     "outputs_hidden": true
    }
   },
   "outputs": [
    {
     "name": "stdout",
     "output_type": "stream",
     "text": [
      "Collecting selenium\n",
      "  Downloading selenium-4.31.0-py3-none-any.whl.metadata (7.5 kB)\n",
      "Requirement already satisfied: urllib3<3,>=1.26 in c:\\users\\reuel\\anaconda3\\lib\\site-packages (from urllib3[socks]<3,>=1.26->selenium) (2.2.3)\n",
      "Collecting trio~=0.17 (from selenium)\n",
      "  Downloading trio-0.29.0-py3-none-any.whl.metadata (8.5 kB)\n",
      "Collecting trio-websocket~=0.9 (from selenium)\n",
      "  Downloading trio_websocket-0.12.2-py3-none-any.whl.metadata (5.1 kB)\n",
      "Requirement already satisfied: certifi>=2021.10.8 in c:\\users\\reuel\\anaconda3\\lib\\site-packages (from selenium) (2025.1.31)\n",
      "Requirement already satisfied: typing_extensions~=4.9 in c:\\users\\reuel\\anaconda3\\lib\\site-packages (from selenium) (4.11.0)\n",
      "Requirement already satisfied: websocket-client~=1.8 in c:\\users\\reuel\\anaconda3\\lib\\site-packages (from selenium) (1.8.0)\n",
      "Collecting attrs>=23.2.0 (from trio~=0.17->selenium)\n",
      "  Downloading attrs-25.3.0-py3-none-any.whl.metadata (10 kB)\n",
      "Requirement already satisfied: sortedcontainers in c:\\users\\reuel\\anaconda3\\lib\\site-packages (from trio~=0.17->selenium) (2.4.0)\n",
      "Requirement already satisfied: idna in c:\\users\\reuel\\anaconda3\\lib\\site-packages (from trio~=0.17->selenium) (3.7)\n",
      "Collecting outcome (from trio~=0.17->selenium)\n",
      "  Downloading outcome-1.3.0.post0-py2.py3-none-any.whl.metadata (2.6 kB)\n",
      "Requirement already satisfied: sniffio>=1.3.0 in c:\\users\\reuel\\anaconda3\\lib\\site-packages (from trio~=0.17->selenium) (1.3.0)\n",
      "Requirement already satisfied: cffi>=1.14 in c:\\users\\reuel\\anaconda3\\lib\\site-packages (from trio~=0.17->selenium) (1.17.1)\n",
      "Collecting wsproto>=0.14 (from trio-websocket~=0.9->selenium)\n",
      "  Downloading wsproto-1.2.0-py3-none-any.whl.metadata (5.6 kB)\n",
      "Requirement already satisfied: pysocks!=1.5.7,<2.0,>=1.5.6 in c:\\users\\reuel\\anaconda3\\lib\\site-packages (from urllib3[socks]<3,>=1.26->selenium) (1.7.1)\n",
      "Requirement already satisfied: pycparser in c:\\users\\reuel\\anaconda3\\lib\\site-packages (from cffi>=1.14->trio~=0.17->selenium) (2.21)\n",
      "Requirement already satisfied: h11<1,>=0.9.0 in c:\\users\\reuel\\anaconda3\\lib\\site-packages (from wsproto>=0.14->trio-websocket~=0.9->selenium) (0.14.0)\n",
      "Downloading selenium-4.31.0-py3-none-any.whl (9.4 MB)\n",
      "   ---------------------------------------- 0.0/9.4 MB ? eta -:--:--\n",
      "   ---------------------------------------- 0.0/9.4 MB ? eta -:--:--\n",
      "   - -------------------------------------- 0.3/9.4 MB ? eta -:--:--\n",
      "   -- ------------------------------------- 0.5/9.4 MB 1.1 MB/s eta 0:00:08\n",
      "   --- ------------------------------------ 0.8/9.4 MB 1.2 MB/s eta 0:00:08\n",
      "   ---- ----------------------------------- 1.0/9.4 MB 1.2 MB/s eta 0:00:07\n",
      "   ----- ---------------------------------- 1.3/9.4 MB 1.5 MB/s eta 0:00:06\n",
      "   ------ --------------------------------- 1.6/9.4 MB 1.4 MB/s eta 0:00:06\n",
      "   -------- ------------------------------- 2.1/9.4 MB 1.4 MB/s eta 0:00:06\n",
      "   ------------ --------------------------- 2.9/9.4 MB 1.8 MB/s eta 0:00:04\n",
      "   -------------- ------------------------- 3.4/9.4 MB 1.9 MB/s eta 0:00:04\n",
      "   --------------- ------------------------ 3.7/9.4 MB 1.9 MB/s eta 0:00:03\n",
      "   --------------- ------------------------ 3.7/9.4 MB 1.9 MB/s eta 0:00:03\n",
      "   ---------------- ----------------------- 3.9/9.4 MB 1.6 MB/s eta 0:00:04\n",
      "   ----------------- ---------------------- 4.2/9.4 MB 1.5 MB/s eta 0:00:04\n",
      "   ----------------- ---------------------- 4.2/9.4 MB 1.5 MB/s eta 0:00:04\n",
      "   ----------------- ---------------------- 4.2/9.4 MB 1.5 MB/s eta 0:00:04\n",
      "   ----------------- ---------------------- 4.2/9.4 MB 1.5 MB/s eta 0:00:04\n",
      "   ------------------- -------------------- 4.5/9.4 MB 1.2 MB/s eta 0:00:05\n",
      "   ------------------- -------------------- 4.5/9.4 MB 1.2 MB/s eta 0:00:05\n",
      "   ------------------- -------------------- 4.5/9.4 MB 1.2 MB/s eta 0:00:05\n",
      "   -------------------- ------------------- 4.7/9.4 MB 1.1 MB/s eta 0:00:05\n",
      "   -------------------- ------------------- 4.7/9.4 MB 1.1 MB/s eta 0:00:05\n",
      "   -------------------- ------------------- 4.7/9.4 MB 1.1 MB/s eta 0:00:05\n",
      "   -------------------- ------------------- 4.7/9.4 MB 1.1 MB/s eta 0:00:05\n",
      "   --------------------- ------------------ 5.0/9.4 MB 952.7 kB/s eta 0:00:05\n",
      "   --------------------- ------------------ 5.0/9.4 MB 952.7 kB/s eta 0:00:05\n",
      "   --------------------- ------------------ 5.0/9.4 MB 952.7 kB/s eta 0:00:05\n",
      "   --------------------- ------------------ 5.0/9.4 MB 952.7 kB/s eta 0:00:05\n",
      "   --------------------- ------------------ 5.0/9.4 MB 952.7 kB/s eta 0:00:05\n",
      "   --------------------- ------------------ 5.0/9.4 MB 952.7 kB/s eta 0:00:05\n",
      "   ---------------------- ----------------- 5.2/9.4 MB 805.0 kB/s eta 0:00:06\n",
      "   ---------------------- ----------------- 5.2/9.4 MB 805.0 kB/s eta 0:00:06\n",
      "   ----------------------- ---------------- 5.5/9.4 MB 802.8 kB/s eta 0:00:05\n",
      "   ------------------------ --------------- 5.8/9.4 MB 799.0 kB/s eta 0:00:05\n",
      "   ------------------------- -------------- 6.0/9.4 MB 818.4 kB/s eta 0:00:05\n",
      "   ------------------------- -------------- 6.0/9.4 MB 818.4 kB/s eta 0:00:05\n",
      "   ------------------------- -------------- 6.0/9.4 MB 818.4 kB/s eta 0:00:05\n",
      "   ------------------------- -------------- 6.0/9.4 MB 818.4 kB/s eta 0:00:05\n",
      "   ------------------------- -------------- 6.0/9.4 MB 818.4 kB/s eta 0:00:05\n",
      "   ------------------------- -------------- 6.0/9.4 MB 818.4 kB/s eta 0:00:05\n",
      "   ------------------------- -------------- 6.0/9.4 MB 818.4 kB/s eta 0:00:05\n",
      "   -------------------------- ------------- 6.3/9.4 MB 710.7 kB/s eta 0:00:05\n",
      "   ---------------------------- ----------- 6.6/9.4 MB 712.7 kB/s eta 0:00:04\n",
      "   ---------------------------- ----------- 6.6/9.4 MB 712.7 kB/s eta 0:00:04\n",
      "   ----------------------------- ---------- 6.8/9.4 MB 709.7 kB/s eta 0:00:04\n",
      "   ----------------------------- ---------- 6.8/9.4 MB 709.7 kB/s eta 0:00:04\n",
      "   ----------------------------- ---------- 6.8/9.4 MB 709.7 kB/s eta 0:00:04\n",
      "   ------------------------------ --------- 7.1/9.4 MB 705.9 kB/s eta 0:00:04\n",
      "   ------------------------------ --------- 7.1/9.4 MB 705.9 kB/s eta 0:00:04\n",
      "   ------------------------------- -------- 7.3/9.4 MB 692.7 kB/s eta 0:00:03\n",
      "   ------------------------------- -------- 7.3/9.4 MB 692.7 kB/s eta 0:00:03\n",
      "   ------------------------------- -------- 7.3/9.4 MB 692.7 kB/s eta 0:00:03\n",
      "   ------------------------------- -------- 7.3/9.4 MB 692.7 kB/s eta 0:00:03\n",
      "   -------------------------------- ------- 7.6/9.4 MB 673.0 kB/s eta 0:00:03\n",
      "   -------------------------------- ------- 7.6/9.4 MB 673.0 kB/s eta 0:00:03\n",
      "   -------------------------------- ------- 7.6/9.4 MB 673.0 kB/s eta 0:00:03\n",
      "   -------------------------------- ------- 7.6/9.4 MB 673.0 kB/s eta 0:00:03\n",
      "   --------------------------------- ------ 7.9/9.4 MB 641.0 kB/s eta 0:00:03\n",
      "   --------------------------------- ------ 7.9/9.4 MB 641.0 kB/s eta 0:00:03\n",
      "   --------------------------------- ------ 7.9/9.4 MB 641.0 kB/s eta 0:00:03\n",
      "   ---------------------------------- ----- 8.1/9.4 MB 631.5 kB/s eta 0:00:02\n",
      "   ---------------------------------- ----- 8.1/9.4 MB 631.5 kB/s eta 0:00:02\n",
      "   ---------------------------------- ----- 8.1/9.4 MB 631.5 kB/s eta 0:00:02\n",
      "   ---------------------------------- ----- 8.1/9.4 MB 631.5 kB/s eta 0:00:02\n",
      "   ----------------------------------- ---- 8.4/9.4 MB 616.2 kB/s eta 0:00:02\n",
      "   ----------------------------------- ---- 8.4/9.4 MB 616.2 kB/s eta 0:00:02\n",
      "   ----------------------------------- ---- 8.4/9.4 MB 616.2 kB/s eta 0:00:02\n",
      "   ----------------------------------- ---- 8.4/9.4 MB 616.2 kB/s eta 0:00:02\n",
      "   ----------------------------------- ---- 8.4/9.4 MB 616.2 kB/s eta 0:00:02\n",
      "   ----------------------------------- ---- 8.4/9.4 MB 616.2 kB/s eta 0:00:02\n",
      "   ----------------------------------- ---- 8.4/9.4 MB 616.2 kB/s eta 0:00:02\n",
      "   ----------------------------------- ---- 8.4/9.4 MB 616.2 kB/s eta 0:00:02\n",
      "   ----------------------------------- ---- 8.4/9.4 MB 616.2 kB/s eta 0:00:02\n",
      "   ----------------------------------- ---- 8.4/9.4 MB 616.2 kB/s eta 0:00:02\n",
      "   ----------------------------------- ---- 8.4/9.4 MB 616.2 kB/s eta 0:00:02\n",
      "   ----------------------------------- ---- 8.4/9.4 MB 616.2 kB/s eta 0:00:02\n",
      "   ----------------------------------- ---- 8.4/9.4 MB 616.2 kB/s eta 0:00:02\n",
      "   ----------------------------------- ---- 8.4/9.4 MB 616.2 kB/s eta 0:00:02\n",
      "   ----------------------------------- ---- 8.4/9.4 MB 616.2 kB/s eta 0:00:02\n",
      "   ------------------------------------- -- 8.7/9.4 MB 511.3 kB/s eta 0:00:02\n",
      "   ------------------------------------- -- 8.7/9.4 MB 511.3 kB/s eta 0:00:02\n",
      "   ------------------------------------- -- 8.7/9.4 MB 511.3 kB/s eta 0:00:02\n",
      "   ------------------------------------- -- 8.7/9.4 MB 511.3 kB/s eta 0:00:02\n",
      "   ------------------------------------- -- 8.7/9.4 MB 511.3 kB/s eta 0:00:02\n",
      "   ------------------------------------- -- 8.7/9.4 MB 511.3 kB/s eta 0:00:02\n",
      "   ------------------------------------- -- 8.7/9.4 MB 511.3 kB/s eta 0:00:02\n",
      "   ------------------------------------- -- 8.7/9.4 MB 511.3 kB/s eta 0:00:02\n",
      "   ------------------------------------- -- 8.7/9.4 MB 511.3 kB/s eta 0:00:02\n",
      "   ------------------------------------- -- 8.7/9.4 MB 511.3 kB/s eta 0:00:02\n",
      "   ------------------------------------- -- 8.7/9.4 MB 511.3 kB/s eta 0:00:02\n",
      "   ------------------------------------- -- 8.7/9.4 MB 511.3 kB/s eta 0:00:02\n",
      "   ------------------------------------- -- 8.7/9.4 MB 511.3 kB/s eta 0:00:02\n",
      "   ------------------------------------- -- 8.7/9.4 MB 511.3 kB/s eta 0:00:02\n",
      "   ------------------------------------- -- 8.7/9.4 MB 511.3 kB/s eta 0:00:02\n",
      "   ------------------------------------- -- 8.7/9.4 MB 511.3 kB/s eta 0:00:02\n",
      "   ------------------------------------- -- 8.7/9.4 MB 511.3 kB/s eta 0:00:02\n",
      "   ------------------------------------- -- 8.7/9.4 MB 511.3 kB/s eta 0:00:02\n",
      "   ------------------------------------- -- 8.7/9.4 MB 511.3 kB/s eta 0:00:02\n",
      "   ------------------------------------- -- 8.7/9.4 MB 511.3 kB/s eta 0:00:02\n",
      "   ------------------------------------- -- 8.7/9.4 MB 511.3 kB/s eta 0:00:02\n",
      "   ------------------------------------- -- 8.7/9.4 MB 511.3 kB/s eta 0:00:02\n",
      "   ------------------------------------- -- 8.7/9.4 MB 511.3 kB/s eta 0:00:02\n",
      "   ------------------------------------- -- 8.7/9.4 MB 511.3 kB/s eta 0:00:02\n",
      "   ------------------------------------- -- 8.7/9.4 MB 511.3 kB/s eta 0:00:02\n",
      "   ------------------------------------- -- 8.7/9.4 MB 511.3 kB/s eta 0:00:02\n",
      "   ------------------------------------- -- 8.7/9.4 MB 511.3 kB/s eta 0:00:02\n",
      "   ------------------------------------- -- 8.7/9.4 MB 511.3 kB/s eta 0:00:02\n",
      "   ------------------------------------- -- 8.7/9.4 MB 511.3 kB/s eta 0:00:02\n",
      "   ------------------------------------- -- 8.7/9.4 MB 511.3 kB/s eta 0:00:02\n",
      "   ------------------------------------- -- 8.7/9.4 MB 511.3 kB/s eta 0:00:02\n",
      "   ------------------------------------- -- 8.7/9.4 MB 511.3 kB/s eta 0:00:02\n",
      "   ------------------------------------- -- 8.7/9.4 MB 511.3 kB/s eta 0:00:02\n",
      "   ------------------------------------- -- 8.7/9.4 MB 511.3 kB/s eta 0:00:02\n",
      "   ------------------------------------- -- 8.7/9.4 MB 511.3 kB/s eta 0:00:02\n",
      "   ------------------------------------- -- 8.7/9.4 MB 511.3 kB/s eta 0:00:02\n",
      "   ------------------------------------- -- 8.7/9.4 MB 511.3 kB/s eta 0:00:02\n",
      "   ------------------------------------- -- 8.7/9.4 MB 511.3 kB/s eta 0:00:02\n",
      "   ------------------------------------- -- 8.7/9.4 MB 511.3 kB/s eta 0:00:02\n",
      "   ------------------------------------- -- 8.7/9.4 MB 511.3 kB/s eta 0:00:02\n",
      "   ------------------------------------- -- 8.7/9.4 MB 511.3 kB/s eta 0:00:02\n",
      "   ------------------------------------- -- 8.7/9.4 MB 511.3 kB/s eta 0:00:02\n",
      "   ------------------------------------- -- 8.7/9.4 MB 511.3 kB/s eta 0:00:02\n",
      "   ------------------------------------- -- 8.7/9.4 MB 511.3 kB/s eta 0:00:02\n",
      "   ------------------------------------- -- 8.7/9.4 MB 511.3 kB/s eta 0:00:02\n",
      "   -------------------------------------- - 8.9/9.4 MB 331.3 kB/s eta 0:00:02\n",
      "   -------------------------------------- - 8.9/9.4 MB 331.3 kB/s eta 0:00:02\n",
      "   -------------------------------------- - 8.9/9.4 MB 331.3 kB/s eta 0:00:02\n",
      "   ---------------------------------------  9.2/9.4 MB 335.0 kB/s eta 0:00:01\n",
      "   ---------------------------------------- 9.4/9.4 MB 337.6 kB/s eta 0:00:00\n",
      "Downloading trio-0.29.0-py3-none-any.whl (492 kB)\n",
      "Downloading trio_websocket-0.12.2-py3-none-any.whl (21 kB)\n",
      "Downloading attrs-25.3.0-py3-none-any.whl (63 kB)\n",
      "Downloading outcome-1.3.0.post0-py2.py3-none-any.whl (10 kB)\n",
      "Downloading wsproto-1.2.0-py3-none-any.whl (24 kB)\n",
      "Installing collected packages: wsproto, attrs, outcome, trio, trio-websocket, selenium\n",
      "  Attempting uninstall: attrs\n",
      "    Found existing installation: attrs 23.1.0\n",
      "    Uninstalling attrs-23.1.0:\n",
      "      Successfully uninstalled attrs-23.1.0\n",
      "Successfully installed attrs-25.3.0 outcome-1.3.0.post0 selenium-4.31.0 trio-0.29.0 trio-websocket-0.12.2 wsproto-1.2.0\n",
      "Note: you may need to restart the kernel to use updated packages.\n"
     ]
    }
   ],
   "source": [
    "pip install selenium"
   ]
  },
  {
   "cell_type": "code",
   "execution_count": 40,
   "id": "49af5dec-2895-4ed8-a135-37301dd9d1fd",
   "metadata": {},
   "outputs": [
    {
     "name": "stderr",
     "output_type": "stream",
     "text": [
      "'apt-get' is not recognized as an internal or external command,\n",
      "operable program or batch file.\n"
     ]
    }
   ],
   "source": [
    "# !apt-get update # to update ubuntu to correctly run apt install"
   ]
  },
  {
   "cell_type": "code",
   "execution_count": 36,
   "id": "9c2cfd23-5096-4db9-b695-3ddc26e3c855",
   "metadata": {},
   "outputs": [
    {
     "name": "stderr",
     "output_type": "stream",
     "text": [
      "'apt' is not recognized as an internal or external command,\n",
      "operable program or batch file.\n"
     ]
    }
   ],
   "source": [
    "# !apt install chromium-chromedriver"
   ]
  },
  {
   "cell_type": "code",
   "execution_count": 38,
   "id": "3462a2ea-17ce-4a0f-ac3d-1b0bf81ae9c5",
   "metadata": {
    "collapsed": true,
    "jupyter": {
     "outputs_hidden": true
    },
    "scrolled": true
   },
   "outputs": [
    {
     "name": "stderr",
     "output_type": "stream",
     "text": [
      "'cp' is not recognized as an internal or external command,\n",
      "operable program or batch file.\n"
     ]
    }
   ],
   "source": [
    "# !cp /usr/lib/chromium-browser/chromedriver /usr/bin"
   ]
  },
  {
   "cell_type": "code",
   "execution_count": null,
   "id": "1a4ba18f-90c4-43b6-92e6-9c78700e9b7a",
   "metadata": {},
   "outputs": [],
   "source": [
    "import sys\n",
    "sys.path.insert(0,'/usr/lib/chromium-browser/chromedriver')\n",
    "from selenium import webdriver\n",
    "import time\n",
    "import requests\n",
    "import shutil\n",
    "import os\n",
    "import getpass\n",
    "import urllib.request\n",
    "import io\n",
    "import time\n",
    "from PIL import Image\n",
    "\n",
    "\n",
    "user = getpass.getuser()\n",
    "chrome_options = webdriver.ChromeOptions()\n",
    "chrome_options.add_argument('--headless')\n",
    "chrome_options.add_argument('--no-sandbox')\n",
    "chrome_options.add_argument('--disable-dev-shm-usage')\n",
    "driver = webdriver.Chrome('chromedriver',chrome_options=chrome_options)\n",
    "search_url = \"https://www.google.com/search?q={q}&tbm=isch&tbs=sur%3Afc&hl=en&ved=0CAIQpwVqFwoTCKCa1c6s4-oCFQAAAAAdAAAAABAC&biw=1251&bih=568\"\n",
    "driver.get(search_url.format(q='Car'))\n",
    "\n",
    "\n",
    "def scroll_to_end(driver):\n",
    "    driver.execute_script(\"window.scrollTo(0, document.body.scrollHeight);\")\n",
    "    time.sleep(5)#sleep_between_interactions\n",
    "\n",
    "\n",
    "def getImageUrls (name,totalImgs,driver):\n",
    "    "
   ]
  },
  {
   "cell_type": "markdown",
   "id": "129e240e-39d2-469f-b445-6af444d42f54",
   "metadata": {},
   "source": [
    "### Web Scraping of Movies Information using BeautifulSoup"
   ]
  },
  {
   "cell_type": "code",
   "execution_count": 67,
   "id": "a9e0955c-fc97-4771-9a57-1152ab0262ce",
   "metadata": {},
   "outputs": [
    {
     "name": "stdout",
     "output_type": "stream",
     "text": [
      "<html>\n",
      "<head><title>403 Forbidden</title></head>\n",
      "<body>\n",
      "<center><h1>403 Forbidden</h1></center>\n",
      "</body>\n",
      "</html>\n",
      "\n"
     ]
    }
   ],
   "source": [
    "from requests import get\n",
    "url = 'https://www.imdb.com/search/title?release_date=2017&sort=num_votes,desc&page=1'\n",
    "response = get(url)\n",
    "print(response.text[:500])"
   ]
  },
  {
   "cell_type": "code",
   "execution_count": 69,
   "id": "0fa797ef-e58e-4d4f-83f9-837a29100a67",
   "metadata": {},
   "outputs": [
    {
     "data": {
      "text/plain": [
       "bs4.BeautifulSoup"
      ]
     },
     "execution_count": 69,
     "metadata": {},
     "output_type": "execute_result"
    }
   ],
   "source": [
    "from bs4 import BeautifulSoup\n",
    "html_soup = BeautifulSoup(response.text, 'html.parser')\n",
    "headers = {'Accept-Language': 'en-US,en;q=0.8'}\n",
    "type(html_soup)"
   ]
  },
  {
   "cell_type": "code",
   "execution_count": 71,
   "id": "74959e45-8ed2-4114-a564-3c541ffaef2f",
   "metadata": {},
   "outputs": [
    {
     "ename": "NameError",
     "evalue": "name 'movie_containers' is not defined",
     "output_type": "error",
     "traceback": [
      "\u001b[1;31m---------------------------------------------------------------------------\u001b[0m",
      "\u001b[1;31mNameError\u001b[0m                                 Traceback (most recent call last)",
      "Cell \u001b[1;32mIn[71], line 1\u001b[0m\n\u001b[1;32m----> 1\u001b[0m first_movie \u001b[38;5;241m=\u001b[39m movie_containers[\u001b[38;5;241m0\u001b[39m]\n\u001b[0;32m      2\u001b[0m first_movie\n",
      "\u001b[1;31mNameError\u001b[0m: name 'movie_containers' is not defined"
     ]
    }
   ],
   "source": [
    "first_movie = movie_containers[0]\n",
    "first_movie"
   ]
  },
  {
   "cell_type": "markdown",
   "id": "7a3a7ee1-9fc9-49fb-9ed2-0e2415f0d598",
   "metadata": {},
   "source": [
    "#### The website is forbidden for access so I went ahead to my supplementary activity"
   ]
  },
  {
   "cell_type": "markdown",
   "id": "ce39c21a-21d0-4dca-8178-b753e153a139",
   "metadata": {},
   "source": [
    "# Supplementary Activity"
   ]
  },
  {
   "cell_type": "markdown",
   "id": "d555c266-6c26-4c8a-b40f-9bfd28b640ca",
   "metadata": {},
   "source": [
    "### Extract the Data"
   ]
  },
  {
   "cell_type": "code",
   "execution_count": 123,
   "id": "8986dfd2-372f-451d-869c-d2d4d2097678",
   "metadata": {},
   "outputs": [],
   "source": [
    "# import the necessary libraries\n",
    "from bs4 import BeautifulSoup\n",
    "import requests\n",
    "import pandas as pd\n",
    "\n",
    "url = 'https://en.wikipedia.org/wiki/List_of_countries_by_intentional_homicide_rate'              \n",
    "page = requests.get(url)                                                                           # get the data from the url\n",
    "\n",
    "soup = BeautifulSoup(page.text, 'html')\n"
   ]
  },
  {
   "cell_type": "code",
   "execution_count": 129,
   "id": "df0227ad-b5a3-4757-b3b5-d8b247468235",
   "metadata": {},
   "outputs": [],
   "source": [
    "table = soup.find_all('table')[1]      # get the index of the table in the website"
   ]
  },
  {
   "cell_type": "code",
   "execution_count": 135,
   "id": "00bb8497-e6e0-4a06-bf44-0dcccb189d5f",
   "metadata": {},
   "outputs": [
    {
     "data": {
      "text/plain": [
       "[<th>Location\n",
       " </th>,\n",
       " <th>Rate\n",
       " </th>,\n",
       " <th>Count\n",
       " </th>,\n",
       " <th>Year\n",
       " </th>,\n",
       " <th><style data-mw-deduplicate=\"TemplateStyles:r1038841319\">.mw-parser-output .tooltip-dotted{border-bottom:1px dotted;cursor:help}</style><span class=\"rt-commentedText tooltip tooltip-dotted\" title=\"To sort by rate or number within regions, sort by region then shift-click on Count or Rate.\">Region</span>\n",
       " </th>,\n",
       " <th><link href=\"mw-data:TemplateStyles:r1038841319\" rel=\"mw-deduplicated-inline-style\"/><span class=\"rt-commentedText tooltip tooltip-dotted\" title=\"To sort by rate or number within subregions, sort by subregion then shift-click on Count or Rate.\">Subregion</span>\n",
       " </th>]"
      ]
     },
     "execution_count": 135,
     "metadata": {},
     "output_type": "execute_result"
    }
   ],
   "source": [
    "webTitles = table.find_all('th')\n",
    "webTitles"
   ]
  },
  {
   "cell_type": "code",
   "execution_count": 137,
   "id": "6e9f9633-3fcb-493c-8c4d-8ad75d06d120",
   "metadata": {},
   "outputs": [
    {
     "data": {
      "text/plain": [
       "['Location', 'Rate', 'Count', 'Year', 'Region', 'Subregion']"
      ]
     },
     "execution_count": 137,
     "metadata": {},
     "output_type": "execute_result"
    }
   ],
   "source": [
    "tableTitles = [title.text.strip() for title in webTitles]     # convert it into a title.text while also stripping the /n\n",
    "tableTitles"
   ]
  },
  {
   "cell_type": "code",
   "execution_count": 290,
   "id": "0ad4ee99-3ad0-4ebe-abbc-cee6587d1c78",
   "metadata": {
    "scrolled": true
   },
   "outputs": [],
   "source": [
    "columnData = table.find_all('tr')              #extracting the data of the table by finding all the rows"
   ]
  },
  {
   "cell_type": "markdown",
   "id": "939fa55f-fdad-4091-bb72-a3c2e08b4e72",
   "metadata": {},
   "source": [
    "### Transform the Data"
   ]
  },
  {
   "cell_type": "code",
   "execution_count": 261,
   "id": "cbe37f13-1902-4814-8a04-ea10c8745f48",
   "metadata": {},
   "outputs": [
    {
     "data": {
      "text/html": [
       "<div>\n",
       "<style scoped>\n",
       "    .dataframe tbody tr th:only-of-type {\n",
       "        vertical-align: middle;\n",
       "    }\n",
       "\n",
       "    .dataframe tbody tr th {\n",
       "        vertical-align: top;\n",
       "    }\n",
       "\n",
       "    .dataframe thead th {\n",
       "        text-align: right;\n",
       "    }\n",
       "</style>\n",
       "<table border=\"1\" class=\"dataframe\">\n",
       "  <thead>\n",
       "    <tr style=\"text-align: right;\">\n",
       "      <th></th>\n",
       "      <th>Location</th>\n",
       "      <th>Rate</th>\n",
       "      <th>Count</th>\n",
       "      <th>Year</th>\n",
       "      <th>Region</th>\n",
       "      <th>Subregion</th>\n",
       "    </tr>\n",
       "  </thead>\n",
       "  <tbody>\n",
       "  </tbody>\n",
       "</table>\n",
       "</div>"
      ],
      "text/plain": [
       "Empty DataFrame\n",
       "Columns: [Location, Rate, Count, Year, Region, Subregion]\n",
       "Index: []"
      ]
     },
     "execution_count": 261,
     "metadata": {},
     "output_type": "execute_result"
    }
   ],
   "source": [
    "# Adding the titles in a dataFrame\n",
    "\n",
    "df = pd.DataFrame(columns = tableTitles)\n",
    "df"
   ]
  },
  {
   "cell_type": "code",
   "execution_count": 263,
   "id": "fc576ed2-72b2-42c8-b3d7-78f8cf4e788e",
   "metadata": {},
   "outputs": [],
   "source": [
    "# adding the rows in the dataframe\n",
    "for row in columnData[1:]:         #used the [1:] because the first row are the titles\n",
    "    rowData = row.find_all('td')                               #find all the individual data\n",
    "    individualRowData = [data.text.strip() for data in rowData]  #get all the row data by finding all with the 'td' then strip the /n\n",
    "    df.loc[len(df)] = individualRowData"
   ]
  },
  {
   "cell_type": "code",
   "execution_count": 265,
   "id": "022f9533-396a-4e51-b107-ffe51e757f82",
   "metadata": {},
   "outputs": [
    {
     "data": {
      "text/html": [
       "<div>\n",
       "<style scoped>\n",
       "    .dataframe tbody tr th:only-of-type {\n",
       "        vertical-align: middle;\n",
       "    }\n",
       "\n",
       "    .dataframe tbody tr th {\n",
       "        vertical-align: top;\n",
       "    }\n",
       "\n",
       "    .dataframe thead th {\n",
       "        text-align: right;\n",
       "    }\n",
       "</style>\n",
       "<table border=\"1\" class=\"dataframe\">\n",
       "  <thead>\n",
       "    <tr style=\"text-align: right;\">\n",
       "      <th></th>\n",
       "      <th>Location</th>\n",
       "      <th>Rate</th>\n",
       "      <th>Count</th>\n",
       "      <th>Year</th>\n",
       "      <th>Region</th>\n",
       "      <th>Subregion</th>\n",
       "    </tr>\n",
       "  </thead>\n",
       "  <tbody>\n",
       "    <tr>\n",
       "      <th>0</th>\n",
       "      <td>Afghanistan *</td>\n",
       "      <td>4.022</td>\n",
       "      <td>1,613</td>\n",
       "      <td>2021</td>\n",
       "      <td>Asia</td>\n",
       "      <td>Southern Asia</td>\n",
       "    </tr>\n",
       "    <tr>\n",
       "      <th>1</th>\n",
       "      <td>Albania *</td>\n",
       "      <td>1.387</td>\n",
       "      <td>39</td>\n",
       "      <td>2023</td>\n",
       "      <td>Europe</td>\n",
       "      <td>Southern Europe</td>\n",
       "    </tr>\n",
       "    <tr>\n",
       "      <th>2</th>\n",
       "      <td>Algeria</td>\n",
       "      <td>1.161</td>\n",
       "      <td>536</td>\n",
       "      <td>2023</td>\n",
       "      <td>Africa</td>\n",
       "      <td>Northern Africa</td>\n",
       "    </tr>\n",
       "    <tr>\n",
       "      <th>3</th>\n",
       "      <td>American Samoa</td>\n",
       "      <td>0</td>\n",
       "      <td>0</td>\n",
       "      <td>2019</td>\n",
       "      <td>Oceania</td>\n",
       "      <td>Polynesia</td>\n",
       "    </tr>\n",
       "    <tr>\n",
       "      <th>4</th>\n",
       "      <td>Andorra</td>\n",
       "      <td>2.574</td>\n",
       "      <td>2</td>\n",
       "      <td>2020</td>\n",
       "      <td>Europe</td>\n",
       "      <td>Southern Europe</td>\n",
       "    </tr>\n",
       "    <tr>\n",
       "      <th>...</th>\n",
       "      <td>...</td>\n",
       "      <td>...</td>\n",
       "      <td>...</td>\n",
       "      <td>...</td>\n",
       "      <td>...</td>\n",
       "      <td>...</td>\n",
       "    </tr>\n",
       "    <tr>\n",
       "      <th>199</th>\n",
       "      <td>Venezuela *</td>\n",
       "      <td>12.607</td>\n",
       "      <td>3,568</td>\n",
       "      <td>2022</td>\n",
       "      <td>Americas</td>\n",
       "      <td>Latin America and the Caribbean</td>\n",
       "    </tr>\n",
       "    <tr>\n",
       "      <th>200</th>\n",
       "      <td>Vietnam *</td>\n",
       "      <td>1.537</td>\n",
       "      <td>1,358</td>\n",
       "      <td>2011</td>\n",
       "      <td>Asia</td>\n",
       "      <td>South-eastern Asia</td>\n",
       "    </tr>\n",
       "    <tr>\n",
       "      <th>201</th>\n",
       "      <td>Yemen *</td>\n",
       "      <td>6.311</td>\n",
       "      <td>1,703</td>\n",
       "      <td>2013</td>\n",
       "      <td>Asia</td>\n",
       "      <td>Western Asia</td>\n",
       "    </tr>\n",
       "    <tr>\n",
       "      <th>202</th>\n",
       "      <td>Zambia *</td>\n",
       "      <td>5.250</td>\n",
       "      <td>853</td>\n",
       "      <td>2015</td>\n",
       "      <td>Africa</td>\n",
       "      <td>Sub-Saharan Africa</td>\n",
       "    </tr>\n",
       "    <tr>\n",
       "      <th>203</th>\n",
       "      <td>Zimbabwe *</td>\n",
       "      <td>0.514</td>\n",
       "      <td>84</td>\n",
       "      <td>2023</td>\n",
       "      <td>Africa</td>\n",
       "      <td>Sub-Saharan Africa</td>\n",
       "    </tr>\n",
       "  </tbody>\n",
       "</table>\n",
       "<p>204 rows × 6 columns</p>\n",
       "</div>"
      ],
      "text/plain": [
       "           Location    Rate  Count  Year    Region  \\\n",
       "0     Afghanistan *   4.022  1,613  2021      Asia   \n",
       "1         Albania *   1.387     39  2023    Europe   \n",
       "2           Algeria   1.161    536  2023    Africa   \n",
       "3    American Samoa       0      0  2019   Oceania   \n",
       "4           Andorra   2.574      2  2020    Europe   \n",
       "..              ...     ...    ...   ...       ...   \n",
       "199     Venezuela *  12.607  3,568  2022  Americas   \n",
       "200       Vietnam *   1.537  1,358  2011      Asia   \n",
       "201         Yemen *   6.311  1,703  2013      Asia   \n",
       "202        Zambia *   5.250    853  2015    Africa   \n",
       "203      Zimbabwe *   0.514     84  2023    Africa   \n",
       "\n",
       "                           Subregion  \n",
       "0                      Southern Asia  \n",
       "1                    Southern Europe  \n",
       "2                    Northern Africa  \n",
       "3                          Polynesia  \n",
       "4                    Southern Europe  \n",
       "..                               ...  \n",
       "199  Latin America and the Caribbean  \n",
       "200               South-eastern Asia  \n",
       "201                     Western Asia  \n",
       "202               Sub-Saharan Africa  \n",
       "203               Sub-Saharan Africa  \n",
       "\n",
       "[204 rows x 6 columns]"
      ]
     },
     "execution_count": 265,
     "metadata": {},
     "output_type": "execute_result"
    }
   ],
   "source": [
    "df"
   ]
  },
  {
   "cell_type": "markdown",
   "id": "9887c702-dec9-41b2-816a-6b20d3f87769",
   "metadata": {},
   "source": [
    "### Load the Data"
   ]
  },
  {
   "cell_type": "code",
   "execution_count": 159,
   "id": "337a0f9d-3426-4d6e-a60e-cabdf1457611",
   "metadata": {},
   "outputs": [],
   "source": [
    "# export the dataframe to csv\n",
    "df.to_csv('Intentional_Homicide_Countries.csv')"
   ]
  },
  {
   "cell_type": "markdown",
   "id": "1effd896-40c0-411b-82d4-156be8c27a53",
   "metadata": {},
   "source": [
    "#### Visualize the data using plots"
   ]
  },
  {
   "cell_type": "markdown",
   "id": "f3b6e273-ad50-4202-b9fc-0ebe8ebf48bb",
   "metadata": {},
   "source": [
    "##### **Pie Graph**"
   ]
  },
  {
   "cell_type": "code",
   "execution_count": 167,
   "id": "fba8de49-a9ce-48d7-ad5d-2a95e36aef45",
   "metadata": {
    "jupyter": {
     "source_hidden": true
    }
   },
   "outputs": [],
   "source": [
    "import matplotlib.pyplot as plt"
   ]
  },
  {
   "cell_type": "code",
   "execution_count": 267,
   "id": "e05226d4-2e0b-4b03-a566-048e57101015",
   "metadata": {},
   "outputs": [
    {
     "data": {
      "text/plain": [
       "Location     object\n",
       "Rate         object\n",
       "Count        object\n",
       "Year         object\n",
       "Region       object\n",
       "Subregion    object\n",
       "dtype: object"
      ]
     },
     "execution_count": 267,
     "metadata": {},
     "output_type": "execute_result"
    }
   ],
   "source": [
    "df.dtypes # check the datatypes"
   ]
  },
  {
   "cell_type": "code",
   "execution_count": 269,
   "id": "7e56f46c-3015-4231-983a-01f772e18bf5",
   "metadata": {},
   "outputs": [
    {
     "data": {
      "text/plain": [
       "Region\n",
       "Africa      275.341\n",
       "Americas    945.636\n",
       "Asia        115.330\n",
       "Europe       67.771\n",
       "Oceania      59.076\n",
       "Name: Rate, dtype: float64"
      ]
     },
     "execution_count": 269,
     "metadata": {},
     "output_type": "execute_result"
    }
   ],
   "source": [
    "df['Rate'] = df.Rate.apply(pd.to_numeric)\n",
    "grouped = df.groupby('Region')['Rate'].sum()\n",
    "grouped"
   ]
  },
  {
   "cell_type": "code",
   "execution_count": 271,
   "id": "890af8c2-41a3-45fa-84ad-b1491755c767",
   "metadata": {},
   "outputs": [
    {
     "data": {
      "text/plain": [
       "([<matplotlib.patches.Wedge at 0x29a694c0>,\n",
       "  <matplotlib.patches.Wedge at 0x29a69070>,\n",
       "  <matplotlib.patches.Wedge at 0x29a69940>,\n",
       "  <matplotlib.patches.Wedge at 0x29a69640>,\n",
       "  <matplotlib.patches.Wedge at 0x29a6aa20>],\n",
       " [Text(0.9133028056077801, 0.6130888885544719, 'Asia'),\n",
       "  Text(-1.0972124022233112, -0.07826202404327916, 'Europe'),\n",
       "  Text(0.7723949150556779, -0.7832024611785464, 'Africa'),\n",
       "  Text(1.0135083627250738, -0.4275521005518979, 'Oceania'),\n",
       "  Text(1.0911626007002477, -0.1391552328626987, 'Americas')])"
      ]
     },
     "execution_count": 271,
     "metadata": {},
     "output_type": "execute_result"
    },
    {
     "data": {
      "image/png": "[encoded data removed]",
      "text/plain": [
       "<Figure size 640x480 with 1 Axes>"
      ]
     },
     "metadata": {},
     "output_type": "display_data"
    }
   ],
   "source": [
    "# for the labels in the pie graph\n",
    "labels = df.Region.drop_duplicates()\n",
    "plt.pie(grouped, labels = labels)"
   ]
  },
  {
   "cell_type": "markdown",
   "id": "e68fb8db-a394-4e3f-9209-8400a0225e74",
   "metadata": {},
   "source": [
    "**Based on the Pie Chart, Europe has the highest intentional homicide crime rate index while Americas and Oceania has the lowest intentional homicide crime rate.**"
   ]
  },
  {
   "cell_type": "markdown",
   "id": "cc4adbd3-3ebe-435e-aac5-c8d3a141c982",
   "metadata": {},
   "source": [
    "##### **Line plot**"
   ]
  },
  {
   "cell_type": "code",
   "execution_count": 274,
   "id": "fe054bd9-685f-427e-a648-b0c162e63227",
   "metadata": {},
   "outputs": [],
   "source": [
    "grouped2 = df.groupby('Year')['Rate'].sum()\n"
   ]
  },
  {
   "cell_type": "code",
   "execution_count": 276,
   "id": "4526d1ad-4c2e-4deb-a304-b27cb1e0e066",
   "metadata": {},
   "outputs": [
    {
     "data": {
      "image/png": "[encoded data removed]",
      "text/plain": [
       "<Figure size 640x480 with 1 Axes>"
      ]
     },
     "metadata": {},
     "output_type": "display_data"
    }
   ],
   "source": [
    "plt.plot(grouped2, marker = 'o')  # i added a marker for a better visualization\n",
    "plt.xticks(rotation = 45)  # rotates the x labels into 45 degrees   \n",
    "plt.show()"
   ]
  },
  {
   "cell_type": "markdown",
   "id": "119a14a6-24a9-418a-a170-298e6b58f1d0",
   "metadata": {},
   "source": [
    "**In this line plot, we can see that the crime rate index from 1994 to 2008 is steadily increasing. However, there is a huge spike in 2012 and 2022. The highest\n",
    "intentional homicide rate is in 2022 while the lowest is in 1994 and 2017.**"
   ]
  }
 ],
 "metadata": {
  "kernelspec": {
   "display_name": "Python [conda env:base] *",
   "language": "python",
   "name": "conda-base-py"
  },
  "language_info": {
   "codemirror_mode": {
    "name": "ipython",
    "version": 3
   },
   "file_extension": ".py",
   "mimetype": "text/x-python",
   "name": "python",
   "nbconvert_exporter": "python",
   "pygments_lexer": "ipython3",
   "version": "3.12.7"
  }
 },
 "nbformat": 4,
 "nbformat_minor": 5
}
