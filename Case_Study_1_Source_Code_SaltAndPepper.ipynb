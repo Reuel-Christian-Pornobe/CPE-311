{
  "nbformat": 4,
  "nbformat_minor": 0,
  "metadata": {
    "colab": {
      "provenance": [],
      "include_colab_link": true
    },
    "kernelspec": {
      "name": "python3",
      "display_name": "Python 3"
    },
    "language_info": {
      "name": "python"
    }
  },
  "cells": [
    {
      "cell_type": "markdown",
      "metadata": {
        "id": "view-in-github",
        "colab_type": "text"
      },
      "source": [
        "<a href=\"https://colab.research.google.com/github/Reuel-Christian-Pornobe/CPE-311/blob/main/Case_Study_1_Source_Code_SaltAndPepper.ipynb\" target=\"_parent\"><img src=\"https://colab.research.google.com/assets/colab-badge.svg\" alt=\"Open In Colab\"/></a>"
      ]
    },
    {
      "cell_type": "code",
      "source": [
        "# A class for the object Package\n",
        "class Package:\n",
        "  def __init__(self, weight, location):\n",
        "    self.weight = weight\n",
        "    self.location = location"
      ],
      "metadata": {
        "id": "PMRIYc7Uiwed"
      },
      "execution_count": null,
      "outputs": []
    },
    {
      "cell_type": "code",
      "source": [
        "# iteration 1\n",
        "\n",
        "# Returns number of vehicles required using first fit Decreasing Algorithm\n",
        "\n",
        "def firstFit(weight, n, c):\n",
        "    # Initialize result (Count of vehicle)\n",
        "    res = 0\n",
        "\n",
        "    # Create an array to store remaining space in vehicle\n",
        "    # there can be at most n vehicle\n",
        "    vehicle_rem = [0] * n\n",
        "\n",
        "    # Create a list to store the items in each vehicle\n",
        "    vehicle = [[] for _ in range(n)]\n",
        "\n",
        "    # Place items one by one\n",
        "    for i in range(n):\n",
        "        # Find the first vehicle that can accommodate weight[i]\n",
        "        j = 0\n",
        "        while j < res:\n",
        "            if vehicle_rem[j] >= weight[i]:\n",
        "                vehicle_rem[j] -= weight[i]\n",
        "                vehicle[j].append(weight[i])  # Add item to the vehicle\n",
        "                break\n",
        "            j += 1\n",
        "\n",
        "        # If no vehicle could accommodate weight[i]\n",
        "        if j == res:\n",
        "            vehicle_rem[res] = c - weight[i]\n",
        "            vehicle[res].append(weight[i])  # Add item to the new vehicle\n",
        "            res += 1\n",
        "\n",
        "    return res, vehicle  # Return the number of vehicle and the vehicle themselves\n",
        "\n",
        "# Returns number of vehicle required using first fit\n",
        "# decreasing offline algorithm\n",
        "def firstFitDec(weight, n, c):\n",
        "    # First sort all weights in decreasing order\n",
        "    weight.sort(reverse=True)\n",
        "\n",
        "    # Now call first fit for sorted items\n",
        "    return firstFit(weight, n, c)\n",
        "\n",
        "# ===============================================================================\n",
        "packages = [Package(23, 'Aurora'), Package(51, 'Antipolo'), Package(24, 'Marikina'),\n",
        "            Package(17, 'Masbate'), Package(64, 'Bicol'), Package(43, 'Rizal'),\n",
        "            Package(88, 'Zabarte')]\n",
        "weight = [i.weight for i in packages]\n",
        "c = 100\n",
        "n = len(weight)\n",
        "memo =  {} # for storing the vehicle and their carriage\n",
        "num_vehicle, vehicle = firstFitDec(weight, n, c)\n",
        "\n",
        "\n",
        "print(\"Number of vehicle required in First Fit Decreasing:\", num_vehicle)\n",
        "print(\"Items in each vehicle:\")\n",
        "for i in range(num_vehicle):\n",
        "    memo[i] = vehicle[i]\n",
        "    print(f\"Vehicle {i + 1}: {vehicle[i]}\")\n",
        "\n",
        "print(f\"The dictionary of all the vehicle and their carriage: {memo}\")"
      ],
      "metadata": {
        "colab": {
          "base_uri": "https://localhost:8080/"
        },
        "id": "Y8vY260Fmavz",
        "outputId": "85e350e3-edd4-4d5b-ad88-6e0a74137afc"
      },
      "execution_count": null,
      "outputs": [
        {
          "output_type": "stream",
          "name": "stdout",
          "text": [
            "Number of vehicle required in First Fit Decreasing: 4\n",
            "Items in each vehicle:\n",
            "Vehicle 1: [88]\n",
            "Vehicle 2: [64, 24]\n",
            "Vehicle 3: [51, 43]\n",
            "Vehicle 4: [23, 17]\n",
            "The dictionary of all the vehicle and their carriage: {0: [88], 1: [64, 24], 2: [51, 43], 3: [23, 17]}\n"
          ]
        }
      ]
    },
    {
      "cell_type": "code",
      "source": [
        "# Iteration 2\n",
        "\n",
        "# Use Dijkstra's Algorithm and the solution to the \"The Travelling Salesman Problem\""
      ],
      "metadata": {
        "id": "5Lxs50HIpIU7"
      },
      "execution_count": null,
      "outputs": []
    }
  ]
}