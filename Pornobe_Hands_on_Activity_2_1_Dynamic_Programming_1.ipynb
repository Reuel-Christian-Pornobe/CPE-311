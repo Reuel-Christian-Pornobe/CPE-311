{
  "cells": [
    {
      "cell_type": "markdown",
      "metadata": {
        "id": "view-in-github",
        "colab_type": "text"
      },
      "source": [
        "<a href=\"https://colab.research.google.com/github/Reuel-Christian-Pornobe/CPE-311/blob/main/Pornobe_Hands_on_Activity_2_1_Dynamic_Programming_1.ipynb\" target=\"_parent\"><img src=\"https://colab.research.google.com/assets/colab-badge.svg\" alt=\"Open In Colab\"/></a>"
      ]
    },
    {
      "cell_type": "markdown",
      "id": "f1c6ec95",
      "metadata": {
        "id": "f1c6ec95"
      },
      "source": [
        "# Hands-on Activity 2.1 : Dynamic Programming"
      ]
    },
    {
      "cell_type": "markdown",
      "id": "56dacba1",
      "metadata": {
        "id": "56dacba1"
      },
      "source": [
        "#### Objective(s):\n",
        "\n",
        "This activity aims to demonstrate how to use dynamic programming to solve problems."
      ]
    },
    {
      "cell_type": "markdown",
      "id": "e51f84e3",
      "metadata": {
        "id": "e51f84e3"
      },
      "source": [
        "#### Intended Learning Outcomes (ILOs):\n",
        "* Differentiate recursion method from dynamic programming to solve problems.\n",
        "* Demonstrate how to  solve real-world problems using dynamic programming\n"
      ]
    },
    {
      "cell_type": "markdown",
      "id": "39047b1a",
      "metadata": {
        "id": "39047b1a"
      },
      "source": [
        "#### Resources:\n",
        "* Jupyter Notebook\n"
      ]
    },
    {
      "cell_type": "markdown",
      "id": "cb5360c0",
      "metadata": {
        "id": "cb5360c0"
      },
      "source": [
        "#### Procedures:"
      ]
    },
    {
      "cell_type": "markdown",
      "id": "206a914c",
      "metadata": {
        "id": "206a914c"
      },
      "source": [
        "1. Create a code that demonstrate how to use recursion method to solve problem"
      ]
    },
    {
      "cell_type": "markdown",
      "id": "5744a876",
      "metadata": {
        "id": "5744a876"
      },
      "source": [
        "2. Create a program codes that demonstrate how to use dynamic programming to solve the same problem"
      ]
    },
    {
      "cell_type": "markdown",
      "id": "8e3f6572",
      "metadata": {
        "id": "8e3f6572"
      },
      "source": [
        "##### Question:\n",
        "Explain the difference of using the recursion from dynamic programming using the given sample codes to solve the same problem"
      ]
    },
    {
      "cell_type": "markdown",
      "id": "b5a71b53",
      "metadata": {
        "id": "b5a71b53"
      },
      "source": [
        "Recursion keeps repeating the function even if it has been already computed by the recursive function. While, Dynamic Programming stores the data that has already been computed so that when the function repeats itself, it does nopt have to go through the same problem twice. Therefore, Dynamic Programming hopes to optimize or quickens the process of just a recursive function.\n",
        "\n",
        "\n",
        "\n"
      ]
    },
    {
      "cell_type": "markdown",
      "id": "60074702",
      "metadata": {
        "id": "60074702"
      },
      "source": [
        "3. Create a sample program codes to simulate bottom-up dynamic programming"
      ]
    },
    {
      "cell_type": "markdown",
      "id": "e629eb89",
      "metadata": {
        "id": "e629eb89"
      },
      "source": [
        "4. Create a sample program codes that simulate tops-down dynamic programming"
      ]
    },
    {
      "cell_type": "markdown",
      "id": "c2e2434c",
      "metadata": {
        "id": "c2e2434c"
      },
      "source": [
        "#### Question:\n",
        " Explain the difference between bottom-up from top-down dynamic programming using the given sample codes"
      ]
    },
    {
      "cell_type": "markdown",
      "id": "ac97e063",
      "metadata": {
        "id": "ac97e063"
      },
      "source": [
        "The Bottom-up approach uses a Tabular method in storing the data of the function. In the sample problem, it stores the data iteratively from the start up to finish. The data stored in the list is then added to another/next iteration. On the other hand, the top-down approach uses a Memoization method. It stores the data that is calculated by the recursive function so that It does not have to repeat computing already answered calculations. In the sample problem, it checks the 2d list if the particular index is empty(-1) if it is not, it returns the answer.\n",
        "\n",
        "\n",
        "\n",
        "\n"
      ]
    },
    {
      "cell_type": "markdown",
      "id": "f7a5bfbd",
      "metadata": {
        "id": "f7a5bfbd"
      },
      "source": [
        "0/1 Knapsack Problem\n",
        "\n",
        "* Analyze three different techniques to solve knapsacks problem\n",
        "1. Recursion\n",
        "2. Dynamic Programming\n",
        "3. Memoization"
      ]
    },
    {
      "cell_type": "code",
      "source": [
        "#sample code for knapsack problem using recursion\n",
        "def rec_knapSack(w, wt, val, n):\n",
        "\n",
        "  #base case\n",
        "  #defined as nth item is empty;\n",
        "  #or the capacity w is 0\n",
        "  if n == 0 or w == 0:\n",
        "    return 0\n",
        "\n",
        "  #if weight of the nth item is more than\n",
        "  #the capacity W, then this item cannot be included\n",
        "  #as part of the optimal solution\n",
        "  if(wt[n-1] > w):\n",
        "    return rec_knapSack(w, wt, val, n-1)\n",
        "\n",
        "  #return the maximum of the two cases:\n",
        "  # (1) include the nth item\n",
        "  # (2) don't include the nth item\n",
        "  else:\n",
        "    return max(\n",
        "        val[n-1] + rec_knapSack(\n",
        "            w-wt[n-1], wt, val, n-1),\n",
        "            rec_knapSack(w, wt, val, n-1)\n",
        "    )"
      ],
      "metadata": {
        "id": "15SVHF85_1Ji"
      },
      "id": "15SVHF85_1Ji",
      "execution_count": 53,
      "outputs": []
    },
    {
      "cell_type": "code",
      "source": [
        "#To test:\n",
        "val = [60, 100, 120] #values for the items\n",
        "wt = [10, 20, 30] #weight of the items\n",
        "w = 50 #knapsack weight capacity\n",
        "n = len(val) #number of items\n",
        "\n",
        "rec_knapSack(w, wt, val, n)"
      ],
      "metadata": {
        "colab": {
          "base_uri": "https://localhost:8080/",
          "height": 0
        },
        "id": "b1D3YRJ7cMqU",
        "outputId": "edb9c35c-f237-4074-d682-a14c5a99b0d6"
      },
      "id": "b1D3YRJ7cMqU",
      "execution_count": 54,
      "outputs": [
        {
          "output_type": "execute_result",
          "data": {
            "text/plain": [
              "220"
            ]
          },
          "metadata": {},
          "execution_count": 54
        }
      ]
    },
    {
      "cell_type": "code",
      "source": [
        "#Dynamic Programming for the Knapsack Problem\n",
        "def DP_knapSack(w, wt, val, n):\n",
        "  #create the table\n",
        "  table = [[0 for x in range(w+1)] for x in range (n+1)]\n",
        "\n",
        "  #populate the table in a bottom-up approach\n",
        "  for i in range(n+1):\n",
        "    for w in range(w+1):\n",
        "      if i == 0 or w == 0:\n",
        "        table[i][w] = 0\n",
        "      elif wt[i-1] <= w:\n",
        "        table[i][w] = max(val[i-1] + table[i-1][w-wt[i-1]],\n",
        "                          table[i-1][w])\n",
        "  return table[n][w]"
      ],
      "metadata": {
        "id": "A8OU1sUJ_1ES"
      },
      "id": "A8OU1sUJ_1ES",
      "execution_count": 60,
      "outputs": []
    },
    {
      "cell_type": "code",
      "source": [
        "#To test:\n",
        "val = [60, 100, 120]\n",
        "wt = [10, 20, 30]\n",
        "w = 50\n",
        "n = len(val)\n",
        "\n",
        "DP_knapSack(w, wt, val, n)"
      ],
      "metadata": {
        "colab": {
          "base_uri": "https://localhost:8080/",
          "height": 0
        },
        "id": "GUNeEPHrd-N1",
        "outputId": "0778ddce-227b-4eaf-b8c1-fc87e60c09d8"
      },
      "id": "GUNeEPHrd-N1",
      "execution_count": 61,
      "outputs": [
        {
          "output_type": "execute_result",
          "data": {
            "text/plain": [
              "220"
            ]
          },
          "metadata": {},
          "execution_count": 61
        }
      ]
    },
    {
      "cell_type": "code",
      "source": [
        "#Sample for top-down DP approach (memoization)\n",
        "#initialize the list of items\n",
        "val = [60, 100, 120]\n",
        "wt = [10, 20, 30]\n",
        "w = 50\n",
        "n = len(val)\n",
        "\n",
        "#initialize the container for the values that have to be stored\n",
        "#values are initialized to -1\n",
        "calc =[[-1 for i in range(w+1)] for j in range(n+1)]\n",
        "\n",
        "\n",
        "def mem_knapSack(wt, val, w, n):\n",
        "  #base conditions\n",
        "  if n == 0 or w == 0:\n",
        "    return 0\n",
        "  if calc[n][w] != -1:\n",
        "    return calc[n][w]\n",
        "\n",
        "  #compute for the other cases\n",
        "  if wt[n-1] <= w:\n",
        "    calc[n][w] = max(val[n-1] + mem_knapSack(wt, val, w-wt[n-1], n-1),\n",
        "                     mem_knapSack(wt, val, w, n-1))\n",
        "    return calc[n][w]\n",
        "  elif wt[n-1] > w:\n",
        "    calc[n][w] = mem_knapSack(wt, val, w, n-1)\n",
        "    return calc[n][w]\n",
        "\n",
        "mem_knapSack(wt, val, w, n)"
      ],
      "metadata": {
        "id": "VgwTX-XT_0_h",
        "colab": {
          "base_uri": "https://localhost:8080/"
        },
        "outputId": "6f3c2cc6-01fc-433a-ae1e-cbb99976c028"
      },
      "id": "VgwTX-XT_0_h",
      "execution_count": null,
      "outputs": [
        {
          "output_type": "execute_result",
          "data": {
            "text/plain": [
              "220"
            ]
          },
          "metadata": {},
          "execution_count": 31
        }
      ]
    },
    {
      "cell_type": "markdown",
      "source": [
        "**Code Analysis**\n",
        "\n",
        "The Memoization method and Tabular method both uses a 2d list. Hopwever, their applications are different. In Tabular method, the functions iterates in the 2d list and stores the answer in the list. The data in the list is then added to another iteration. On the other hand, Memoization method puts the calculated data into the 2d lists recursively. It then checks every iteration or recursion if the particular calculation is answered. If it is already answered, the function extracts it. If it is not yet calculated, then it stores the answer to the list."
      ],
      "metadata": {
        "id": "-UXSSblDcF8T"
      },
      "id": "-UXSSblDcF8T"
    },
    {
      "cell_type": "markdown",
      "source": [
        "## Seatwork 2.1"
      ],
      "metadata": {
        "id": "IGsdUGCUcTFd"
      },
      "id": "IGsdUGCUcTFd"
    },
    {
      "cell_type": "markdown",
      "id": "0462053d",
      "metadata": {
        "id": "0462053d"
      },
      "source": [
        "Task 1: Modify the three techniques to include additional criterion in the knapsack problems"
      ]
    },
    {
      "cell_type": "code",
      "execution_count": 89,
      "id": "ed2f6186",
      "metadata": {
        "id": "ed2f6186",
        "colab": {
          "base_uri": "https://localhost:8080/",
          "height": 0
        },
        "collapsed": true,
        "outputId": "55271abc-df23-430c-90b2-9c97914f73ba"
      },
      "outputs": [
        {
          "output_type": "execute_result",
          "data": {
            "text/plain": [
              "360"
            ]
          },
          "metadata": {},
          "execution_count": 89
        }
      ],
      "source": [
        "#type your code here\n",
        "#Recursion\n",
        "\n",
        "def rec_knapSack(w, v, vol, wt, val, n): # added a volume criteria\n",
        "\n",
        "  if n == 0 or w == 0 or v == 0: # base case\n",
        "    return 0\n",
        "\n",
        "  if(wt[n-1] > w) or (vol[n - 1] > v):            # if the weight and volume of an object exceed the\n",
        "    return rec_knapSack(w, v, vol, wt, val, n-1)  # maximum capacity of volume or weight, go to next iteration\n",
        "\n",
        "  else:\n",
        "    return max(\n",
        "        val[n-1] + rec_knapSack(\n",
        "            w - wt[n-1], v - vol[n-1], vol, wt, val, n-1),\n",
        "            rec_knapSack(w, v, vol, wt, val, n-1)\n",
        "    )\n",
        "\n",
        "\n",
        "\n",
        "#===================================================================================================================================================\n",
        "#Dynamic\n",
        "\n",
        "def DP_knapSack(w, v, vol, wt, val, n):\n",
        "\n",
        "  table = [[[0 for x in range(v+1)] for x in range(w+1)] for x in range (n+1)]   # modified the 2d list to 3d list to add a volume criteria\n",
        "\n",
        "  # iterate through the 3d list\n",
        "  for i in range(n+1):\n",
        "    for j in range(w+1):     # weight capacity\n",
        "        for k in range(v+1): # volume capacity\n",
        "            if i == 0 or j == 0 or k == 0:\n",
        "                table[i][j][k] = 0\n",
        "            elif wt[i-1] <= j and vol[i-1] <= k:\n",
        "                table[i][j][k] = max(val[i-1] + table[i-1][j-wt[i-1]][k-vol[i-1]], # include the item (with the additional criteria which is the volume)\n",
        "                                     table[i-1][j][k])                             # exclude the item\n",
        "\n",
        "  return table[n][w][v]\n",
        "\n",
        "#============================================================================================================================================================================\n",
        "#memoization\n",
        "\n",
        "def mem_knapSack(vol, wt, val, v, w, n): # added a volume criteria\n",
        "  #base conditions\n",
        "  if n == 0 or w == 0 or v == 0:\n",
        "    return 0\n",
        "  if calc[n][w][v] != -1:\n",
        "    return calc[n][w][v]\n",
        "\n",
        "  #compute for the other cases\n",
        "  if wt[n-1] <= w and vol[n-1] <= v:                    # if an objects weight and volume can fit in the knapsack\n",
        "    calc[n][w][v] = max(val[n-1] + mem_knapSack(vol, wt, val, v-vol[n-1], w-wt[n-1], n-1), # check if it is worth it to include or exclude\n",
        "                     mem_knapSack(vol, wt, val, v, w, n-1))\n",
        "    return calc[n][w][v]\n",
        "\n",
        "  elif wt[n-1] > w or vol[n-1] > v:\n",
        "    calc[n][w][v] = mem_knapSack(vol, wt, val, v, w, n-1)   # while if the objects weight and volume is cannot fit in the knapsack\n",
        "    return calc[n][w][v]                                    # go to the next object\n",
        "\n"
      ]
    },
    {
      "cell_type": "code",
      "source": [
        "#Recursion\n",
        "#To test:\n",
        "val = [60, 100, 120, 200, 150] #values for the items\n",
        "wt = [10, 20, 30, 15, 25, 30] #weight of the items\n",
        "vol = [20, 30, 40, 10, 50] # volumes of each items\n",
        "w = 50 #knapsack weight capacity\n",
        "v = 70 # knapsack volume capacity\n",
        "n = len(val) #number of items\n",
        "\n",
        "rec_knapSack(w, v, vol, wt, val, n)"
      ],
      "metadata": {
        "colab": {
          "base_uri": "https://localhost:8080/",
          "height": 0
        },
        "id": "cugfSJGWehxD",
        "outputId": "c0d83d8b-4969-4688-a94e-3f1c9e82d518"
      },
      "id": "cugfSJGWehxD",
      "execution_count": 80,
      "outputs": [
        {
          "output_type": "execute_result",
          "data": {
            "text/plain": [
              "360"
            ]
          },
          "metadata": {},
          "execution_count": 80
        }
      ]
    },
    {
      "cell_type": "code",
      "source": [
        "#Dynamic Programming\n",
        "#To test:\n",
        "val = [60, 100, 120, 200, 150] #values for the items\n",
        "wt = [10, 20, 30, 15, 25, 30] #weight of the items\n",
        "vol = [20, 30, 40, 10, 50] # volumes of each items\n",
        "w = 50 #knapsack weight capacity\n",
        "v = 70 # knapsack volume capacity\n",
        "n = len(val) #number of items\n",
        "\n",
        "DP_knapSack(w, v, vol, wt, val, n)"
      ],
      "metadata": {
        "colab": {
          "base_uri": "https://localhost:8080/",
          "height": 0
        },
        "id": "guEO4fsql52g",
        "outputId": "ac321299-a25d-4f22-e67e-b045d229f8c3"
      },
      "id": "guEO4fsql52g",
      "execution_count": 86,
      "outputs": [
        {
          "output_type": "execute_result",
          "data": {
            "text/plain": [
              "360"
            ]
          },
          "metadata": {},
          "execution_count": 86
        }
      ]
    },
    {
      "cell_type": "code",
      "source": [
        "#Memoization\n",
        "#To test:\n",
        "#initialize the list of items\n",
        "val = [60, 100, 120, 200, 150] #values for the items\n",
        "wt = [10, 20, 30, 15, 25, 30] #weight of the items\n",
        "vol = [20, 30, 40, 10, 50] # volumes of each items\n",
        "w = 50 #knapsack weight capacity\n",
        "v = 70 # knapsack volume capacity\n",
        "n = len(val) #number of items\n",
        "\n",
        "#initialize the container for the values that have to be stored\n",
        "#values are initialized to -1\n",
        "calc =[[[-1 for i in range(v+1)] for j in range(w+1)] for k in range(n+1)] # created a 3d list for an extra criteria(volume)\n",
        "\n",
        "mem_knapSack(vol, wt, val, v, w, n)"
      ],
      "metadata": {
        "colab": {
          "base_uri": "https://localhost:8080/",
          "height": 0
        },
        "id": "H8COrVf4mAXv",
        "outputId": "f1f8993c-d30e-4202-c051-6af9da59146f"
      },
      "id": "H8COrVf4mAXv",
      "execution_count": 90,
      "outputs": [
        {
          "output_type": "execute_result",
          "data": {
            "text/plain": [
              "360"
            ]
          },
          "metadata": {},
          "execution_count": 90
        }
      ]
    },
    {
      "cell_type": "markdown",
      "id": "d97e864e",
      "metadata": {
        "id": "d97e864e"
      },
      "source": [
        "Fibonacci Numbers"
      ]
    },
    {
      "cell_type": "code",
      "source": [
        "def fibonacci(n):\n",
        "    if n<= 2:\n",
        "        return 1\n",
        "\n",
        "    return fibonacci(n-1) + fibonacci(n-2)\n",
        "\n"
      ],
      "metadata": {
        "id": "HoqkUdvj_2ZZ"
      },
      "id": "HoqkUdvj_2ZZ",
      "execution_count": 50,
      "outputs": []
    },
    {
      "cell_type": "code",
      "source": [
        "n = int(input(\"Enter a number: \"))\n",
        "print(f\"The answer is: {fibonacci(n)}\")"
      ],
      "metadata": {
        "colab": {
          "base_uri": "https://localhost:8080/",
          "height": 0
        },
        "id": "JRSmC2GsadN5",
        "outputId": "dbebf3f2-b909-4fee-ac6d-c7bee5da3fc7"
      },
      "id": "JRSmC2GsadN5",
      "execution_count": 51,
      "outputs": [
        {
          "output_type": "stream",
          "name": "stdout",
          "text": [
            "Enter a number: 10\n",
            "The answer is: 55\n"
          ]
        }
      ]
    },
    {
      "cell_type": "markdown",
      "id": "f44e88aa",
      "metadata": {
        "id": "f44e88aa"
      },
      "source": [
        "Task 2: Create a sample program that find the nth number of Fibonacci Series using Dynamic Programming"
      ]
    },
    {
      "cell_type": "code",
      "execution_count": 41,
      "id": "745871be",
      "metadata": {
        "id": "745871be"
      },
      "outputs": [],
      "source": [
        "def fibonacci2(n, memo = {}):\n",
        "    if n <= 2:\n",
        "        return 1\n",
        "\n",
        "    try:\n",
        "        return memo[n]\n",
        "\n",
        "    except KeyError:\n",
        "        answer =  fibonacci2(n-1, memo) + fibonacci2(n-2, memo)\n",
        "        memo[n] = answer\n",
        "        return memo[n]"
      ]
    },
    {
      "cell_type": "code",
      "source": [
        "n = int(input(\"Enter the nth number of: \"))\n",
        "\n",
        "answer = fibonacci2(n, memo = {})\n",
        "print(f\"The {n}th term in the Fibonacci Sequence is equal to {answer}\")"
      ],
      "metadata": {
        "colab": {
          "base_uri": "https://localhost:8080/",
          "height": 0
        },
        "id": "w8YxtclaWJue",
        "outputId": "c9b0ca3a-b39f-42af-b721-2bfd49e56c06"
      },
      "id": "w8YxtclaWJue",
      "execution_count": 49,
      "outputs": [
        {
          "output_type": "stream",
          "name": "stdout",
          "text": [
            "Enter the nth number of: 10\n",
            "The 10th term in the Fibonacci Sequence is equal to 55\n"
          ]
        }
      ]
    },
    {
      "cell_type": "markdown",
      "id": "070ddd75",
      "metadata": {
        "id": "070ddd75"
      },
      "source": [
        "## Supplementary Problem (HOA 2.1 Submission):\n",
        "* Choose a real-life problem\n",
        "* Use recursion and dynamic programming to solve the problem"
      ]
    },
    {
      "cell_type": "markdown",
      "source": [
        "Maximizing the weight of the LRT while keeping having the high value for pwd, elderly(PWD = 100, Elderly = 90)"
      ],
      "metadata": {
        "id": "MzsZNuVVzBXo"
      },
      "id": "MzsZNuVVzBXo"
    },
    {
      "cell_type": "code",
      "execution_count": 100,
      "id": "73b071b6",
      "metadata": {
        "id": "73b071b6",
        "colab": {
          "base_uri": "https://localhost:8080/",
          "height": 0
        },
        "outputId": "cc9f8de8-2ca9-4e1c-aecd-e2057a355565"
      },
      "outputs": [
        {
          "output_type": "execute_result",
          "data": {
            "text/plain": [
              "125"
            ]
          },
          "metadata": {},
          "execution_count": 100
        }
      ],
      "source": [
        "# Recursion\n",
        "def maxLRT(maxWeight, weight, prio, n):\n",
        "\n",
        "  #base case\n",
        "  if n == 0 or weight == 0:\n",
        "    return 0\n",
        "\n",
        "    # if weight exceeds the maxWeight capacity go to next iteration\n",
        "  if(wt[n-1] > w):\n",
        "    return maxLRT(maxWeight, weight, prio, n-1)\n",
        "\n",
        "  # check if it is worth it to include the passenger or not\n",
        "  else:\n",
        "    return max( prio[n-1] + maxLRT(maxWeight-weight[n-1], weight, prio, n-1),\n",
        "               maxLRT(maxWeight, weight, prio, n-1))\n",
        "\n",
        "prio = [20, 30, 15, 25, 35] # priority values\n",
        "weight = [10, 20, 30, 15, 25, 30] # weight\n",
        "maxWeight = 60 #lrt weight capacity\n",
        "v = 200 # knapsack volume capacity\n",
        "n = len(val) #number of items\n",
        "\n",
        "maxLRT(maxWeight, weight, prio, n)"
      ]
    },
    {
      "cell_type": "code",
      "execution_count": 101,
      "id": "86eef507",
      "metadata": {
        "id": "86eef507",
        "colab": {
          "base_uri": "https://localhost:8080/",
          "height": 0
        },
        "outputId": "e2ae0b71-d0e2-44f3-b4b7-1d021795e3a4"
      },
      "outputs": [
        {
          "output_type": "execute_result",
          "data": {
            "text/plain": [
              "125"
            ]
          },
          "metadata": {},
          "execution_count": 101
        }
      ],
      "source": [
        "# Dynamic Programming\n",
        "\n",
        "def maxLRT_DP(maxWeight, weight, prio, n):\n",
        "\n",
        "    table = [[0 for x in range(maxWeight +1 )] for x in range (n +1 )]\n",
        "\n",
        "    for i in range(n + 1):\n",
        "        for j in range(maxWeight + 1):\n",
        "            if i == 0 or j == 0:\n",
        "                table[i][j] = 0\n",
        "\n",
        "            elif weight[i-1] <= w:\n",
        "                table[i][j] = max(prio[i-1] + table[i-1][maxWeight - weight[i - 1]],\n",
        "                                  table[i-1][w])\n",
        "    return table[n][w]\n",
        "\n",
        "prio = [20, 30, 15, 25, 35] # priority values\n",
        "weight = [10, 20, 30, 15, 25, 30] # weight\n",
        "maxWeight = 60 #lrt weight capacity\n",
        "v = 200 # knapsack volume capacity\n",
        "n = len(val) #number of items\n",
        "\n",
        "maxLRT_DP(maxWeight, weight, prio, n)"
      ]
    },
    {
      "cell_type": "markdown",
      "id": "bb0ed6a9",
      "metadata": {
        "id": "bb0ed6a9"
      },
      "source": [
        "#### Conclusion"
      ]
    },
    {
      "cell_type": "markdown",
      "source": [
        "For this Lab activity, I learned how to use the Recursion and Dynamic programming(using tabular and memoization.) Recursion is a method in solving complex problems by dividing it into smaller and simple problems. However, it goes slower as the data size increases. Dynamic Programming is a solution in decreasing the time complexity of a program or algorithm by using the Memoization and Tabular method.\n",
        "\n",
        "In the activity, I modified the program to add a another criterion which is the volume of an object. An object can only be choosen if the volume of the object fits in the knapsacks. I added this criteria in Memoization and Tabular by creating a 3D list instead of 2 so that I will have another space to store the volume of an object.\n",
        "\n",
        "For the supplementary activity, I created a similar algorithm that hopes to maximize the capacity of the LRT while also keeping in mind the priority status of the passengers. Passengers that are PWD and Elderly has more \"value\" in the program so that the algorithm can priotize them\n",
        "\n"
      ],
      "metadata": {
        "id": "vrUdvmLZ_lOf"
      },
      "id": "vrUdvmLZ_lOf"
    }
  ],
  "metadata": {
    "kernelspec": {
      "display_name": "Python 3",
      "language": "python",
      "name": "python3"
    },
    "language_info": {
      "codemirror_mode": {
        "name": "ipython",
        "version": 3
      },
      "file_extension": ".py",
      "mimetype": "text/x-python",
      "name": "python",
      "nbconvert_exporter": "python",
      "pygments_lexer": "ipython3",
      "version": "3.7.10"
    },
    "colab": {
      "provenance": [],
      "include_colab_link": true
    }
  },
  "nbformat": 4,
  "nbformat_minor": 5
}