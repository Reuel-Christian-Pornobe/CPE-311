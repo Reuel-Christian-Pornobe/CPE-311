{
 "cells": [
  {
   "cell_type": "markdown",
   "id": "772c8d8d-6f39-4f93-ba15-10152c7e5385",
   "metadata": {},
   "source": [
    "You are given n types of coin denominations of values v(1) < v(2) < ... < v(n) (all integers). Assume v(1) = 1, so you can always make change for any amount of money C. \n",
    "Give an algorithm which makes change for an amount of money C with as few coins as possible."
   ]
  },
  {
   "cell_type": "code",
   "execution_count": 7,
   "id": "81082376-2f77-4f4f-b9dd-36f596ba38e6",
   "metadata": {},
   "outputs": [],
   "source": [
    "coinDenominations = [1, 5, 25]\n",
    "memo = {}\n",
    "\n",
    "def coinChange(cd, c, index,  memo={}, answer = 0): #cd = coin denominations and c = money to be given an equivalent change\n",
    "\n",
    "    if c == 1 or c == 0:\n",
    "        return 1\n",
    "\n",
    "    try:\n",
    "        return memo[c]\n",
    "        \n",
    "    except KeyError:\n",
    "        if cd[index] <= c or cd[index + 1] <= c:\n",
    "            answer = min(c - cd[index], c - cd[index + 1])\n",
    "            memo[index] = answer\n",
    "            coinChange(cd, answer, index + 1)\n",
    "            \n",
    "            \n",
    "\n",
    "    "
   ]
  },
  {
   "cell_type": "code",
   "execution_count": 8,
   "id": "526c74f4-9007-4ea4-81ca-a1aa0d0a1227",
   "metadata": {},
   "outputs": [
    {
     "ename": "IndexError",
     "evalue": "list index out of range",
     "output_type": "error",
     "traceback": [
      "\u001b[1;31m---------------------------------------------------------------------------\u001b[0m",
      "\u001b[1;31mKeyError\u001b[0m                                  Traceback (most recent call last)",
      "Cell \u001b[1;32mIn[7], line 9\u001b[0m, in \u001b[0;36mcoinChange\u001b[1;34m(cd, c, index, memo, answer)\u001b[0m\n\u001b[0;32m      8\u001b[0m \u001b[38;5;28;01mtry\u001b[39;00m:\n\u001b[1;32m----> 9\u001b[0m     \u001b[38;5;28;01mreturn\u001b[39;00m memo[c]\n\u001b[0;32m     11\u001b[0m \u001b[38;5;28;01mexcept\u001b[39;00m \u001b[38;5;167;01mKeyError\u001b[39;00m:\n",
      "\u001b[1;31mKeyError\u001b[0m: 10",
      "\nDuring handling of the above exception, another exception occurred:\n",
      "\u001b[1;31mKeyError\u001b[0m                                  Traceback (most recent call last)",
      "Cell \u001b[1;32mIn[7], line 9\u001b[0m, in \u001b[0;36mcoinChange\u001b[1;34m(cd, c, index, memo, answer)\u001b[0m\n\u001b[0;32m      8\u001b[0m \u001b[38;5;28;01mtry\u001b[39;00m:\n\u001b[1;32m----> 9\u001b[0m     \u001b[38;5;28;01mreturn\u001b[39;00m memo[c]\n\u001b[0;32m     11\u001b[0m \u001b[38;5;28;01mexcept\u001b[39;00m \u001b[38;5;167;01mKeyError\u001b[39;00m:\n",
      "\u001b[1;31mKeyError\u001b[0m: 5",
      "\nDuring handling of the above exception, another exception occurred:\n",
      "\u001b[1;31mKeyError\u001b[0m                                  Traceback (most recent call last)",
      "Cell \u001b[1;32mIn[7], line 9\u001b[0m, in \u001b[0;36mcoinChange\u001b[1;34m(cd, c, index, memo, answer)\u001b[0m\n\u001b[0;32m      8\u001b[0m \u001b[38;5;28;01mtry\u001b[39;00m:\n\u001b[1;32m----> 9\u001b[0m     \u001b[38;5;28;01mreturn\u001b[39;00m memo[c]\n\u001b[0;32m     11\u001b[0m \u001b[38;5;28;01mexcept\u001b[39;00m \u001b[38;5;167;01mKeyError\u001b[39;00m:\n",
      "\u001b[1;31mKeyError\u001b[0m: -20",
      "\nDuring handling of the above exception, another exception occurred:\n",
      "\u001b[1;31mIndexError\u001b[0m                                Traceback (most recent call last)",
      "Cell \u001b[1;32mIn[8], line 2\u001b[0m\n\u001b[0;32m      1\u001b[0m coinDenominations \u001b[38;5;241m=\u001b[39m [\u001b[38;5;241m1\u001b[39m, \u001b[38;5;241m5\u001b[39m, \u001b[38;5;241m25\u001b[39m]\n\u001b[1;32m----> 2\u001b[0m coinChange(coinDenominations, \u001b[38;5;241m10\u001b[39m, \u001b[38;5;241m0\u001b[39m)\n",
      "Cell \u001b[1;32mIn[7], line 15\u001b[0m, in \u001b[0;36mcoinChange\u001b[1;34m(cd, c, index, memo, answer)\u001b[0m\n\u001b[0;32m     13\u001b[0m answer \u001b[38;5;241m=\u001b[39m \u001b[38;5;28mmin\u001b[39m(c \u001b[38;5;241m-\u001b[39m cd[index], c \u001b[38;5;241m-\u001b[39m cd[index \u001b[38;5;241m+\u001b[39m \u001b[38;5;241m1\u001b[39m])\n\u001b[0;32m     14\u001b[0m memo[index] \u001b[38;5;241m=\u001b[39m answer\n\u001b[1;32m---> 15\u001b[0m coinChange(cd, answer, index \u001b[38;5;241m+\u001b[39m \u001b[38;5;241m1\u001b[39m)\n",
      "Cell \u001b[1;32mIn[7], line 15\u001b[0m, in \u001b[0;36mcoinChange\u001b[1;34m(cd, c, index, memo, answer)\u001b[0m\n\u001b[0;32m     13\u001b[0m answer \u001b[38;5;241m=\u001b[39m \u001b[38;5;28mmin\u001b[39m(c \u001b[38;5;241m-\u001b[39m cd[index], c \u001b[38;5;241m-\u001b[39m cd[index \u001b[38;5;241m+\u001b[39m \u001b[38;5;241m1\u001b[39m])\n\u001b[0;32m     14\u001b[0m memo[index] \u001b[38;5;241m=\u001b[39m answer\n\u001b[1;32m---> 15\u001b[0m coinChange(cd, answer, index \u001b[38;5;241m+\u001b[39m \u001b[38;5;241m1\u001b[39m)\n",
      "Cell \u001b[1;32mIn[7], line 12\u001b[0m, in \u001b[0;36mcoinChange\u001b[1;34m(cd, c, index, memo, answer)\u001b[0m\n\u001b[0;32m      9\u001b[0m     \u001b[38;5;28;01mreturn\u001b[39;00m memo[c]\n\u001b[0;32m     11\u001b[0m \u001b[38;5;28;01mexcept\u001b[39;00m \u001b[38;5;167;01mKeyError\u001b[39;00m:\n\u001b[1;32m---> 12\u001b[0m     \u001b[38;5;28;01mif\u001b[39;00m cd[index] \u001b[38;5;241m<\u001b[39m\u001b[38;5;241m=\u001b[39m c \u001b[38;5;129;01mor\u001b[39;00m cd[index \u001b[38;5;241m+\u001b[39m \u001b[38;5;241m1\u001b[39m] \u001b[38;5;241m<\u001b[39m\u001b[38;5;241m=\u001b[39m c:\n\u001b[0;32m     13\u001b[0m         answer \u001b[38;5;241m=\u001b[39m \u001b[38;5;28mmin\u001b[39m(c \u001b[38;5;241m-\u001b[39m cd[index], c \u001b[38;5;241m-\u001b[39m cd[index \u001b[38;5;241m+\u001b[39m \u001b[38;5;241m1\u001b[39m])\n\u001b[0;32m     14\u001b[0m         memo[index] \u001b[38;5;241m=\u001b[39m answer\n",
      "\u001b[1;31mIndexError\u001b[0m: list index out of range"
     ]
    }
   ],
   "source": [
    "coinDenominations = [1, 5, 25]\n",
    "coinChange(coinDenominations, 10, 0)"
   ]
  },
  {
   "cell_type": "code",
   "execution_count": null,
   "id": "b761bcbf-e307-4506-b0fa-a7899284674b",
   "metadata": {},
   "outputs": [],
   "source": []
  }
 ],
 "metadata": {
  "kernelspec": {
   "display_name": "Python 3 (ipykernel)",
   "language": "python",
   "name": "python3"
  },
  "language_info": {
   "codemirror_mode": {
    "name": "ipython",
    "version": 3
   },
   "file_extension": ".py",
   "mimetype": "text/x-python",
   "name": "python",
   "nbconvert_exporter": "python",
   "pygments_lexer": "ipython3",
   "version": "3.12.4"
  }
 },
 "nbformat": 4,
 "nbformat_minor": 5
}
